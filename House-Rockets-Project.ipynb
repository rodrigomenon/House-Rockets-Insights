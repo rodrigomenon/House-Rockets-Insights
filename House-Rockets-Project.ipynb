{
 "cells": [
  {
   "cell_type": "markdown",
   "id": "25e987a7",
   "metadata": {},
   "source": [
    "# Imports"
   ]
  },
  {
   "cell_type": "code",
   "execution_count": 103,
   "id": "86746208",
   "metadata": {
    "ExecuteTime": {
     "end_time": "2021-10-27T12:00:10.581632Z",
     "start_time": "2021-10-27T12:00:10.239651Z"
    }
   },
   "outputs": [],
   "source": [
    "import pandas as pd\n",
    "import numpy as np\n",
    "import matplotlib.pyplot as plt\n",
    "import seaborn as sns\n",
    "\n",
    "%matplotlib inline\n",
    "\n",
    "pd.set_option('display.float_format', lambda x: '%.2f' % x)"
   ]
  },
  {
   "cell_type": "markdown",
   "id": "3634bd05",
   "metadata": {},
   "source": [
    "# Data Loading and Understanding"
   ]
  },
  {
   "cell_type": "markdown",
   "id": "de37dbb3",
   "metadata": {},
   "source": [
    "## Data Loading"
   ]
  },
  {
   "cell_type": "code",
   "execution_count": 114,
   "id": "1810d5d0",
   "metadata": {
    "ExecuteTime": {
     "end_time": "2021-10-27T13:04:38.756646Z",
     "start_time": "2021-10-27T13:04:38.267610Z"
    },
    "scrolled": true
   },
   "outputs": [
    {
     "data": {
      "text/html": [
       "<div>\n",
       "<style scoped>\n",
       "    .dataframe tbody tr th:only-of-type {\n",
       "        vertical-align: middle;\n",
       "    }\n",
       "\n",
       "    .dataframe tbody tr th {\n",
       "        vertical-align: top;\n",
       "    }\n",
       "\n",
       "    .dataframe thead th {\n",
       "        text-align: right;\n",
       "    }\n",
       "</style>\n",
       "<table border=\"1\" class=\"dataframe\">\n",
       "  <thead>\n",
       "    <tr style=\"text-align: right;\">\n",
       "      <th></th>\n",
       "      <th>id</th>\n",
       "      <th>date</th>\n",
       "      <th>price</th>\n",
       "      <th>bedrooms</th>\n",
       "      <th>bathrooms</th>\n",
       "      <th>sqft_living</th>\n",
       "      <th>sqft_lot</th>\n",
       "      <th>floors</th>\n",
       "      <th>waterfront</th>\n",
       "      <th>view</th>\n",
       "      <th>...</th>\n",
       "      <th>grade</th>\n",
       "      <th>sqft_above</th>\n",
       "      <th>sqft_basement</th>\n",
       "      <th>yr_built</th>\n",
       "      <th>yr_renovated</th>\n",
       "      <th>zipcode</th>\n",
       "      <th>lat</th>\n",
       "      <th>long</th>\n",
       "      <th>sqft_living15</th>\n",
       "      <th>sqft_lot15</th>\n",
       "    </tr>\n",
       "  </thead>\n",
       "  <tbody>\n",
       "    <tr>\n",
       "      <th>0</th>\n",
       "      <td>7129300520</td>\n",
       "      <td>20141013T000000</td>\n",
       "      <td>221900.00</td>\n",
       "      <td>3</td>\n",
       "      <td>1.00</td>\n",
       "      <td>1180</td>\n",
       "      <td>5650</td>\n",
       "      <td>1.00</td>\n",
       "      <td>0</td>\n",
       "      <td>0</td>\n",
       "      <td>...</td>\n",
       "      <td>7</td>\n",
       "      <td>1180</td>\n",
       "      <td>0</td>\n",
       "      <td>1955</td>\n",
       "      <td>0</td>\n",
       "      <td>98178</td>\n",
       "      <td>47.51</td>\n",
       "      <td>-122.26</td>\n",
       "      <td>1340</td>\n",
       "      <td>5650</td>\n",
       "    </tr>\n",
       "    <tr>\n",
       "      <th>1</th>\n",
       "      <td>6414100192</td>\n",
       "      <td>20141209T000000</td>\n",
       "      <td>538000.00</td>\n",
       "      <td>3</td>\n",
       "      <td>2.25</td>\n",
       "      <td>2570</td>\n",
       "      <td>7242</td>\n",
       "      <td>2.00</td>\n",
       "      <td>0</td>\n",
       "      <td>0</td>\n",
       "      <td>...</td>\n",
       "      <td>7</td>\n",
       "      <td>2170</td>\n",
       "      <td>400</td>\n",
       "      <td>1951</td>\n",
       "      <td>1991</td>\n",
       "      <td>98125</td>\n",
       "      <td>47.72</td>\n",
       "      <td>-122.32</td>\n",
       "      <td>1690</td>\n",
       "      <td>7639</td>\n",
       "    </tr>\n",
       "    <tr>\n",
       "      <th>2</th>\n",
       "      <td>5631500400</td>\n",
       "      <td>20150225T000000</td>\n",
       "      <td>180000.00</td>\n",
       "      <td>2</td>\n",
       "      <td>1.00</td>\n",
       "      <td>770</td>\n",
       "      <td>10000</td>\n",
       "      <td>1.00</td>\n",
       "      <td>0</td>\n",
       "      <td>0</td>\n",
       "      <td>...</td>\n",
       "      <td>6</td>\n",
       "      <td>770</td>\n",
       "      <td>0</td>\n",
       "      <td>1933</td>\n",
       "      <td>0</td>\n",
       "      <td>98028</td>\n",
       "      <td>47.74</td>\n",
       "      <td>-122.23</td>\n",
       "      <td>2720</td>\n",
       "      <td>8062</td>\n",
       "    </tr>\n",
       "    <tr>\n",
       "      <th>3</th>\n",
       "      <td>2487200875</td>\n",
       "      <td>20141209T000000</td>\n",
       "      <td>604000.00</td>\n",
       "      <td>4</td>\n",
       "      <td>3.00</td>\n",
       "      <td>1960</td>\n",
       "      <td>5000</td>\n",
       "      <td>1.00</td>\n",
       "      <td>0</td>\n",
       "      <td>0</td>\n",
       "      <td>...</td>\n",
       "      <td>7</td>\n",
       "      <td>1050</td>\n",
       "      <td>910</td>\n",
       "      <td>1965</td>\n",
       "      <td>0</td>\n",
       "      <td>98136</td>\n",
       "      <td>47.52</td>\n",
       "      <td>-122.39</td>\n",
       "      <td>1360</td>\n",
       "      <td>5000</td>\n",
       "    </tr>\n",
       "    <tr>\n",
       "      <th>4</th>\n",
       "      <td>1954400510</td>\n",
       "      <td>20150218T000000</td>\n",
       "      <td>510000.00</td>\n",
       "      <td>3</td>\n",
       "      <td>2.00</td>\n",
       "      <td>1680</td>\n",
       "      <td>8080</td>\n",
       "      <td>1.00</td>\n",
       "      <td>0</td>\n",
       "      <td>0</td>\n",
       "      <td>...</td>\n",
       "      <td>8</td>\n",
       "      <td>1680</td>\n",
       "      <td>0</td>\n",
       "      <td>1987</td>\n",
       "      <td>0</td>\n",
       "      <td>98074</td>\n",
       "      <td>47.62</td>\n",
       "      <td>-122.05</td>\n",
       "      <td>1800</td>\n",
       "      <td>7503</td>\n",
       "    </tr>\n",
       "  </tbody>\n",
       "</table>\n",
       "<p>5 rows × 21 columns</p>\n",
       "</div>"
      ],
      "text/plain": [
       "           id             date     price  bedrooms  bathrooms  sqft_living  \\\n",
       "0  7129300520  20141013T000000 221900.00         3       1.00         1180   \n",
       "1  6414100192  20141209T000000 538000.00         3       2.25         2570   \n",
       "2  5631500400  20150225T000000 180000.00         2       1.00          770   \n",
       "3  2487200875  20141209T000000 604000.00         4       3.00         1960   \n",
       "4  1954400510  20150218T000000 510000.00         3       2.00         1680   \n",
       "\n",
       "   sqft_lot  floors  waterfront  view  ...  grade  sqft_above  sqft_basement  \\\n",
       "0      5650    1.00           0     0  ...      7        1180              0   \n",
       "1      7242    2.00           0     0  ...      7        2170            400   \n",
       "2     10000    1.00           0     0  ...      6         770              0   \n",
       "3      5000    1.00           0     0  ...      7        1050            910   \n",
       "4      8080    1.00           0     0  ...      8        1680              0   \n",
       "\n",
       "   yr_built  yr_renovated  zipcode   lat    long  sqft_living15  sqft_lot15  \n",
       "0      1955             0    98178 47.51 -122.26           1340        5650  \n",
       "1      1951          1991    98125 47.72 -122.32           1690        7639  \n",
       "2      1933             0    98028 47.74 -122.23           2720        8062  \n",
       "3      1965             0    98136 47.52 -122.39           1360        5000  \n",
       "4      1987             0    98074 47.62 -122.05           1800        7503  \n",
       "\n",
       "[5 rows x 21 columns]"
      ]
     },
     "execution_count": 114,
     "metadata": {},
     "output_type": "execute_result"
    }
   ],
   "source": [
    "data = pd.read_csv('data/kc_house_data.csv')\n",
    "data.head()"
   ]
  },
  {
   "cell_type": "markdown",
   "id": "27081c57",
   "metadata": {},
   "source": [
    "## Data Understanding\n",
    "\n",
    "    \n",
    "| Attribute | Description |\n",
    "| :----- | :----- |\n",
    "| **id** | Unique ID for each home sold |\n",
    "| **date** | Date of the home sale |\n",
    "| **price** | Price of each home sold |\n",
    "| **bedrooms** | Number of bedrooms |\n",
    "| **bathrooms** | Number of bathrooms, where .5 accounts for a room with a toilet but no shower |\n",
    "| **sqft_living** | Square footage of the home interior living space |\n",
    "| **sqft_lot** | Square footage of the land space |\n",
    "| **floors** | Number of floors |\n",
    "| **waterfront** | A dummy variable for whether the home was overlooking the waterfront or not |\n",
    "| **view** | An index from 0 to 4 of how good the view of the property was |\n",
    "| **condition** | An index from 1 to 5 on the condition of the home |\n",
    "| **grade** | An index from 1 to 13, where 1-3 falls short of building construction and design, 7 has an average level of construction and design, and 11-13 have a high quality level of construction and design |\n",
    "| **sqft_above** | The square footage of the interior housing space that is above ground level |\n",
    "| **sqft_basement** | The square footage of the interior housing space that is below ground level |\n",
    "| **yr_built** | The year the home was initially built |\n",
    "| **yr_renovated** | The year of the home’s last renovation |\n",
    "| **zipcode** | What zip code area the home is in |\n",
    "| **lat** | Latitude |\n",
    "| **long** | Longitude |\n",
    "| **sqft_living15** | The square footage of interior housing living space for the nearest 15 neighbors |\n",
    "| **sqft_lot15** | The square footage of the land lots of the nearest 15 neighbors |\n",
    "\n"
   ]
  },
  {
   "cell_type": "markdown",
   "id": "8bcfd696",
   "metadata": {},
   "source": [
    "## Data overview"
   ]
  },
  {
   "cell_type": "code",
   "execution_count": null,
   "id": "1281e6af",
   "metadata": {
    "ExecuteTime": {
     "end_time": "2021-10-27T12:00:21.216750Z",
     "start_time": "2021-10-27T12:00:17.202Z"
    }
   },
   "outputs": [],
   "source": [
    "data.shape"
   ]
  },
  {
   "cell_type": "code",
   "execution_count": null,
   "id": "3f1dd04c",
   "metadata": {
    "ExecuteTime": {
     "end_time": "2021-10-27T12:00:21.344737Z",
     "start_time": "2021-10-27T12:00:18.392Z"
    }
   },
   "outputs": [],
   "source": [
    "data.info()"
   ]
  },
  {
   "cell_type": "code",
   "execution_count": 105,
   "id": "35cb5693",
   "metadata": {
    "ExecuteTime": {
     "end_time": "2021-10-27T12:00:22.857732Z",
     "start_time": "2021-10-27T12:00:22.608944Z"
    }
   },
   "outputs": [
    {
     "data": {
      "text/plain": [
       "id                0\n",
       "date              0\n",
       "price             0\n",
       "bedrooms          0\n",
       "bathrooms         0\n",
       "sqft_living       0\n",
       "sqft_lot          0\n",
       "floors            0\n",
       "waterfront        0\n",
       "view              0\n",
       "condition         0\n",
       "grade             0\n",
       "sqft_above        0\n",
       "sqft_basement     0\n",
       "yr_built          0\n",
       "yr_renovated      0\n",
       "zipcode           0\n",
       "lat               0\n",
       "long              0\n",
       "sqft_living15     0\n",
       "sqft_lot15        0\n",
       "condition_type    0\n",
       "dormitory_type    0\n",
       "view_type         0\n",
       "is_waterfront     0\n",
       "house_age         0\n",
       "basement          0\n",
       "renovated         0\n",
       "standard          0\n",
       "day               0\n",
       "month             0\n",
       "year              0\n",
       "seasons           0\n",
       "median_price      0\n",
       "buy               0\n",
       "dtype: int64"
      ]
     },
     "execution_count": 105,
     "metadata": {},
     "output_type": "execute_result"
    }
   ],
   "source": [
    "data.isnull().sum()"
   ]
  },
  {
   "cell_type": "code",
   "execution_count": 106,
   "id": "6b343106",
   "metadata": {
    "ExecuteTime": {
     "end_time": "2021-10-27T12:00:31.839103Z",
     "start_time": "2021-10-27T12:00:31.696481Z"
    }
   },
   "outputs": [
    {
     "data": {
      "text/plain": [
       "False"
      ]
     },
     "execution_count": 106,
     "metadata": {},
     "output_type": "execute_result"
    }
   ],
   "source": [
    "data.duplicated().any()"
   ]
  },
  {
   "cell_type": "markdown",
   "id": "0db5e617",
   "metadata": {},
   "source": [
    "# Data Cleaning"
   ]
  },
  {
   "cell_type": "markdown",
   "id": "79da1878",
   "metadata": {},
   "source": [
    "changing the column type ```date```  to ```datetime```"
   ]
  },
  {
   "cell_type": "code",
   "execution_count": 107,
   "id": "793abe20",
   "metadata": {
    "ExecuteTime": {
     "end_time": "2021-10-27T12:00:41.812455Z",
     "start_time": "2021-10-27T12:00:41.716463Z"
    }
   },
   "outputs": [],
   "source": [
    "data['date'] = pd.to_datetime(data['date'])"
   ]
  },
  {
   "cell_type": "markdown",
   "id": "504b8bb6",
   "metadata": {},
   "source": [
    "Dropping registers with repeated \"id\""
   ]
  },
  {
   "cell_type": "code",
   "execution_count": 108,
   "id": "aaa05860",
   "metadata": {
    "ExecuteTime": {
     "end_time": "2021-10-27T12:00:50.661631Z",
     "start_time": "2021-10-27T12:00:50.613618Z"
    }
   },
   "outputs": [],
   "source": [
    "data = data.drop_duplicates(subset='id', keep='last')"
   ]
  },
  {
   "cell_type": "markdown",
   "id": "a900c4bd",
   "metadata": {},
   "source": [
    "Replacing the bedrooms outliers by it's median"
   ]
  },
  {
   "cell_type": "code",
   "execution_count": 109,
   "id": "69cd14f1",
   "metadata": {
    "ExecuteTime": {
     "end_time": "2021-10-27T12:00:59.291565Z",
     "start_time": "2021-10-27T12:00:59.243592Z"
    }
   },
   "outputs": [],
   "source": [
    "data.loc[data['bedrooms'] > 10, 'bedrooms'] = data['bedrooms'].median()"
   ]
  },
  {
   "cell_type": "markdown",
   "id": "f7b47a3d",
   "metadata": {},
   "source": [
    "# Exploratory Data Analysis (EDA)"
   ]
  },
  {
   "cell_type": "markdown",
   "id": "56d6c3ab",
   "metadata": {},
   "source": [
    "## Creating new features to better understand the data"
   ]
  },
  {
   "cell_type": "code",
   "execution_count": 110,
   "id": "eefda011",
   "metadata": {
    "ExecuteTime": {
     "end_time": "2021-10-27T12:01:07.838376Z",
     "start_time": "2021-10-27T12:01:07.630399Z"
    },
    "scrolled": true
   },
   "outputs": [],
   "source": [
    "# column \"condition type\"\n",
    "data['condition_type'] = data['condition'].apply(lambda x: 'terrible' if x == 1 else\n",
    "                                                            'bad' if x == 2 else\n",
    "                                                            'regular' if x == 3 else\n",
    "                                                            'good' if x == 4 else\n",
    "                                                            'excellent')\n",
    "\n",
    "# column dormitory_type\"\n",
    "data['dormitory_type'] = data['bedrooms'].apply(lambda x: 'studio' if x <= 1 else\n",
    "                                                       'apartment' if (x > 1) & (x <= 4) else\n",
    "                                                       'house')\n",
    "\n",
    "# column view_type\"\n",
    "data['view_type'] = data['view'].apply(lambda x: 'terrible' if x == 0 else\n",
    "                                                            'bad' if x == 1 else\n",
    "                                                            'regular' if x == 2 else\n",
    "                                                            'good' if x == 3 else\n",
    "                                                            'excellent')\n",
    "\n",
    "# column \"is_waterfront\"\n",
    "data['is_waterfront'] = data['waterfront'].apply(lambda x: 'yes' if x == 1 else 'no')\n",
    "\n",
    "# column \"house_age\"\n",
    "data['house_age'] = data['yr_built'].apply(lambda x: 'old_property' if x < 1955 else 'new_property')\n",
    "\n",
    "# column \"basement\"\n",
    "data['basement'] = data['sqft_basement'].apply(lambda x: 'no' if x == 0 else 'yes')\n",
    "\n",
    "# column \"renovated\"\n",
    "data['renovated'] = data['yr_renovated'].apply(lambda x: 'yes' if x != 0 else 'no')\n",
    "\n",
    "# column \"standard\"\n",
    "data['standard'] = np.where(data['price'] > 540000, 'high_standard', 'low_standard')\n",
    "\n",
    "\n",
    "# columns \"day\", \"month\", \"year\" and \"seasons\"\n",
    "data['day'] = data['date'].dt.day\n",
    "data['month'] = data['date'].dt.month\n",
    "data['year'] = data['date'].dt.year\n",
    "data['seasons'] = data['month'].apply(lambda x: 'summer' if x in([6, 7, 8]) else\n",
    "                                                 'autumn' if x in([9, 10, 11]) else\n",
    "                                                 'winter' if x in([12, 1, 2]) else\n",
    "                                                 'spring')"
   ]
  },
  {
   "cell_type": "code",
   "execution_count": 111,
   "id": "3cc05a17",
   "metadata": {
    "ExecuteTime": {
     "end_time": "2021-10-27T12:01:16.683730Z",
     "start_time": "2021-10-27T12:01:16.611494Z"
    }
   },
   "outputs": [
    {
     "data": {
      "text/html": [
       "<div>\n",
       "<style scoped>\n",
       "    .dataframe tbody tr th:only-of-type {\n",
       "        vertical-align: middle;\n",
       "    }\n",
       "\n",
       "    .dataframe tbody tr th {\n",
       "        vertical-align: top;\n",
       "    }\n",
       "\n",
       "    .dataframe thead th {\n",
       "        text-align: right;\n",
       "    }\n",
       "</style>\n",
       "<table border=\"1\" class=\"dataframe\">\n",
       "  <thead>\n",
       "    <tr style=\"text-align: right;\">\n",
       "      <th></th>\n",
       "      <th>id</th>\n",
       "      <th>date</th>\n",
       "      <th>price</th>\n",
       "      <th>bedrooms</th>\n",
       "      <th>bathrooms</th>\n",
       "      <th>sqft_living</th>\n",
       "      <th>sqft_lot</th>\n",
       "      <th>floors</th>\n",
       "      <th>waterfront</th>\n",
       "      <th>view</th>\n",
       "      <th>...</th>\n",
       "      <th>house_age</th>\n",
       "      <th>basement</th>\n",
       "      <th>renovated</th>\n",
       "      <th>standard</th>\n",
       "      <th>day</th>\n",
       "      <th>month</th>\n",
       "      <th>year</th>\n",
       "      <th>seasons</th>\n",
       "      <th>median_price</th>\n",
       "      <th>buy</th>\n",
       "    </tr>\n",
       "  </thead>\n",
       "  <tbody>\n",
       "    <tr>\n",
       "      <th>0</th>\n",
       "      <td>7129300520</td>\n",
       "      <td>2014-10-13</td>\n",
       "      <td>221900.00</td>\n",
       "      <td>3</td>\n",
       "      <td>1.00</td>\n",
       "      <td>1180</td>\n",
       "      <td>5650</td>\n",
       "      <td>1.00</td>\n",
       "      <td>0</td>\n",
       "      <td>0</td>\n",
       "      <td>...</td>\n",
       "      <td>new_property</td>\n",
       "      <td>no</td>\n",
       "      <td>no</td>\n",
       "      <td>low_standard</td>\n",
       "      <td>13</td>\n",
       "      <td>10</td>\n",
       "      <td>2014</td>\n",
       "      <td>autumn</td>\n",
       "      <td>279500.00</td>\n",
       "      <td>yes</td>\n",
       "    </tr>\n",
       "    <tr>\n",
       "      <th>1</th>\n",
       "      <td>4060000240</td>\n",
       "      <td>2014-06-23</td>\n",
       "      <td>205425.00</td>\n",
       "      <td>2</td>\n",
       "      <td>1.00</td>\n",
       "      <td>880</td>\n",
       "      <td>6780</td>\n",
       "      <td>1.00</td>\n",
       "      <td>0</td>\n",
       "      <td>0</td>\n",
       "      <td>...</td>\n",
       "      <td>old_property</td>\n",
       "      <td>no</td>\n",
       "      <td>no</td>\n",
       "      <td>low_standard</td>\n",
       "      <td>23</td>\n",
       "      <td>6</td>\n",
       "      <td>2014</td>\n",
       "      <td>summer</td>\n",
       "      <td>279500.00</td>\n",
       "      <td>yes</td>\n",
       "    </tr>\n",
       "    <tr>\n",
       "      <th>2</th>\n",
       "      <td>4058801670</td>\n",
       "      <td>2014-07-17</td>\n",
       "      <td>445000.00</td>\n",
       "      <td>3</td>\n",
       "      <td>2.25</td>\n",
       "      <td>2100</td>\n",
       "      <td>8201</td>\n",
       "      <td>1.00</td>\n",
       "      <td>0</td>\n",
       "      <td>2</td>\n",
       "      <td>...</td>\n",
       "      <td>new_property</td>\n",
       "      <td>yes</td>\n",
       "      <td>no</td>\n",
       "      <td>low_standard</td>\n",
       "      <td>17</td>\n",
       "      <td>7</td>\n",
       "      <td>2014</td>\n",
       "      <td>summer</td>\n",
       "      <td>279500.00</td>\n",
       "      <td>no</td>\n",
       "    </tr>\n",
       "    <tr>\n",
       "      <th>3</th>\n",
       "      <td>2976800796</td>\n",
       "      <td>2014-09-25</td>\n",
       "      <td>236000.00</td>\n",
       "      <td>3</td>\n",
       "      <td>1.00</td>\n",
       "      <td>1300</td>\n",
       "      <td>5898</td>\n",
       "      <td>1.00</td>\n",
       "      <td>0</td>\n",
       "      <td>0</td>\n",
       "      <td>...</td>\n",
       "      <td>new_property</td>\n",
       "      <td>no</td>\n",
       "      <td>no</td>\n",
       "      <td>low_standard</td>\n",
       "      <td>25</td>\n",
       "      <td>9</td>\n",
       "      <td>2014</td>\n",
       "      <td>autumn</td>\n",
       "      <td>279500.00</td>\n",
       "      <td>yes</td>\n",
       "    </tr>\n",
       "    <tr>\n",
       "      <th>4</th>\n",
       "      <td>6874200960</td>\n",
       "      <td>2015-02-27</td>\n",
       "      <td>170000.00</td>\n",
       "      <td>2</td>\n",
       "      <td>1.00</td>\n",
       "      <td>860</td>\n",
       "      <td>5265</td>\n",
       "      <td>1.00</td>\n",
       "      <td>0</td>\n",
       "      <td>0</td>\n",
       "      <td>...</td>\n",
       "      <td>old_property</td>\n",
       "      <td>no</td>\n",
       "      <td>no</td>\n",
       "      <td>low_standard</td>\n",
       "      <td>27</td>\n",
       "      <td>2</td>\n",
       "      <td>2015</td>\n",
       "      <td>winter</td>\n",
       "      <td>279500.00</td>\n",
       "      <td>yes</td>\n",
       "    </tr>\n",
       "  </tbody>\n",
       "</table>\n",
       "<p>5 rows × 35 columns</p>\n",
       "</div>"
      ],
      "text/plain": [
       "           id       date     price  bedrooms  bathrooms  sqft_living  \\\n",
       "0  7129300520 2014-10-13 221900.00         3       1.00         1180   \n",
       "1  4060000240 2014-06-23 205425.00         2       1.00          880   \n",
       "2  4058801670 2014-07-17 445000.00         3       2.25         2100   \n",
       "3  2976800796 2014-09-25 236000.00         3       1.00         1300   \n",
       "4  6874200960 2015-02-27 170000.00         2       1.00          860   \n",
       "\n",
       "   sqft_lot  floors  waterfront  view  ...     house_age  basement  renovated  \\\n",
       "0      5650    1.00           0     0  ...  new_property        no         no   \n",
       "1      6780    1.00           0     0  ...  old_property        no         no   \n",
       "2      8201    1.00           0     2  ...  new_property       yes         no   \n",
       "3      5898    1.00           0     0  ...  new_property        no         no   \n",
       "4      5265    1.00           0     0  ...  old_property        no         no   \n",
       "\n",
       "       standard  day  month  year  seasons  median_price  buy  \n",
       "0  low_standard   13     10  2014   autumn     279500.00  yes  \n",
       "1  low_standard   23      6  2014   summer     279500.00  yes  \n",
       "2  low_standard   17      7  2014   summer     279500.00   no  \n",
       "3  low_standard   25      9  2014   autumn     279500.00  yes  \n",
       "4  low_standard   27      2  2015   winter     279500.00  yes  \n",
       "\n",
       "[5 rows x 35 columns]"
      ]
     },
     "execution_count": 111,
     "metadata": {},
     "output_type": "execute_result"
    }
   ],
   "source": [
    "data.head()"
   ]
  },
  {
   "cell_type": "code",
   "execution_count": 113,
   "id": "8af05561",
   "metadata": {
    "ExecuteTime": {
     "end_time": "2021-10-27T12:37:05.150803Z",
     "start_time": "2021-10-27T12:37:04.066133Z"
    }
   },
   "outputs": [],
   "source": [
    "data.to_csv(\"data/kc_cleaned.csv\", index=False)"
   ]
  },
  {
   "cell_type": "markdown",
   "id": "7feacc57",
   "metadata": {},
   "source": [
    "creating a data frame with the descriptive statistics"
   ]
  },
  {
   "cell_type": "code",
   "execution_count": 12,
   "id": "8e3b0f00",
   "metadata": {
    "ExecuteTime": {
     "end_time": "2021-10-27T07:41:23.659006Z",
     "start_time": "2021-10-27T07:41:23.475022Z"
    }
   },
   "outputs": [
    {
     "data": {
      "text/html": [
       "<div>\n",
       "<style scoped>\n",
       "    .dataframe tbody tr th:only-of-type {\n",
       "        vertical-align: middle;\n",
       "    }\n",
       "\n",
       "    .dataframe tbody tr th {\n",
       "        vertical-align: top;\n",
       "    }\n",
       "\n",
       "    .dataframe thead th {\n",
       "        text-align: right;\n",
       "    }\n",
       "</style>\n",
       "<table border=\"1\" class=\"dataframe\">\n",
       "  <thead>\n",
       "    <tr style=\"text-align: right;\">\n",
       "      <th></th>\n",
       "      <th>count</th>\n",
       "      <th>mean</th>\n",
       "      <th>std</th>\n",
       "      <th>min</th>\n",
       "      <th>25%</th>\n",
       "      <th>50%</th>\n",
       "      <th>75%</th>\n",
       "      <th>max</th>\n",
       "    </tr>\n",
       "  </thead>\n",
       "  <tbody>\n",
       "    <tr>\n",
       "      <th>price</th>\n",
       "      <td>21436.00</td>\n",
       "      <td>541649.96</td>\n",
       "      <td>367314.93</td>\n",
       "      <td>75000.00</td>\n",
       "      <td>324866.00</td>\n",
       "      <td>450000.00</td>\n",
       "      <td>645000.00</td>\n",
       "      <td>7700000.00</td>\n",
       "    </tr>\n",
       "    <tr>\n",
       "      <th>bedrooms</th>\n",
       "      <td>21436.00</td>\n",
       "      <td>3.37</td>\n",
       "      <td>0.91</td>\n",
       "      <td>0.00</td>\n",
       "      <td>3.00</td>\n",
       "      <td>3.00</td>\n",
       "      <td>4.00</td>\n",
       "      <td>10.00</td>\n",
       "    </tr>\n",
       "    <tr>\n",
       "      <th>bathrooms</th>\n",
       "      <td>21436.00</td>\n",
       "      <td>2.12</td>\n",
       "      <td>0.77</td>\n",
       "      <td>0.00</td>\n",
       "      <td>1.75</td>\n",
       "      <td>2.25</td>\n",
       "      <td>2.50</td>\n",
       "      <td>8.00</td>\n",
       "    </tr>\n",
       "    <tr>\n",
       "      <th>sqft_living</th>\n",
       "      <td>21436.00</td>\n",
       "      <td>2082.70</td>\n",
       "      <td>919.15</td>\n",
       "      <td>290.00</td>\n",
       "      <td>1430.00</td>\n",
       "      <td>1920.00</td>\n",
       "      <td>2550.00</td>\n",
       "      <td>13540.00</td>\n",
       "    </tr>\n",
       "    <tr>\n",
       "      <th>sqft_lot</th>\n",
       "      <td>21436.00</td>\n",
       "      <td>15135.64</td>\n",
       "      <td>41538.62</td>\n",
       "      <td>520.00</td>\n",
       "      <td>5040.00</td>\n",
       "      <td>7614.00</td>\n",
       "      <td>10696.25</td>\n",
       "      <td>1651359.00</td>\n",
       "    </tr>\n",
       "    <tr>\n",
       "      <th>floors</th>\n",
       "      <td>21436.00</td>\n",
       "      <td>1.50</td>\n",
       "      <td>0.54</td>\n",
       "      <td>1.00</td>\n",
       "      <td>1.00</td>\n",
       "      <td>1.50</td>\n",
       "      <td>2.00</td>\n",
       "      <td>3.50</td>\n",
       "    </tr>\n",
       "    <tr>\n",
       "      <th>waterfront</th>\n",
       "      <td>21436.00</td>\n",
       "      <td>0.01</td>\n",
       "      <td>0.09</td>\n",
       "      <td>0.00</td>\n",
       "      <td>0.00</td>\n",
       "      <td>0.00</td>\n",
       "      <td>0.00</td>\n",
       "      <td>1.00</td>\n",
       "    </tr>\n",
       "    <tr>\n",
       "      <th>view</th>\n",
       "      <td>21436.00</td>\n",
       "      <td>0.24</td>\n",
       "      <td>0.77</td>\n",
       "      <td>0.00</td>\n",
       "      <td>0.00</td>\n",
       "      <td>0.00</td>\n",
       "      <td>0.00</td>\n",
       "      <td>4.00</td>\n",
       "    </tr>\n",
       "    <tr>\n",
       "      <th>condition</th>\n",
       "      <td>21436.00</td>\n",
       "      <td>3.41</td>\n",
       "      <td>0.65</td>\n",
       "      <td>1.00</td>\n",
       "      <td>3.00</td>\n",
       "      <td>3.00</td>\n",
       "      <td>4.00</td>\n",
       "      <td>5.00</td>\n",
       "    </tr>\n",
       "    <tr>\n",
       "      <th>grade</th>\n",
       "      <td>21436.00</td>\n",
       "      <td>7.66</td>\n",
       "      <td>1.17</td>\n",
       "      <td>1.00</td>\n",
       "      <td>7.00</td>\n",
       "      <td>7.00</td>\n",
       "      <td>8.00</td>\n",
       "      <td>13.00</td>\n",
       "    </tr>\n",
       "    <tr>\n",
       "      <th>sqft_above</th>\n",
       "      <td>21436.00</td>\n",
       "      <td>1790.96</td>\n",
       "      <td>829.03</td>\n",
       "      <td>290.00</td>\n",
       "      <td>1200.00</td>\n",
       "      <td>1560.00</td>\n",
       "      <td>2220.00</td>\n",
       "      <td>9410.00</td>\n",
       "    </tr>\n",
       "    <tr>\n",
       "      <th>sqft_basement</th>\n",
       "      <td>21436.00</td>\n",
       "      <td>291.74</td>\n",
       "      <td>442.78</td>\n",
       "      <td>0.00</td>\n",
       "      <td>0.00</td>\n",
       "      <td>0.00</td>\n",
       "      <td>560.00</td>\n",
       "      <td>4820.00</td>\n",
       "    </tr>\n",
       "    <tr>\n",
       "      <th>yr_built</th>\n",
       "      <td>21436.00</td>\n",
       "      <td>1971.10</td>\n",
       "      <td>29.39</td>\n",
       "      <td>1900.00</td>\n",
       "      <td>1952.00</td>\n",
       "      <td>1975.00</td>\n",
       "      <td>1997.00</td>\n",
       "      <td>2015.00</td>\n",
       "    </tr>\n",
       "    <tr>\n",
       "      <th>yr_renovated</th>\n",
       "      <td>21436.00</td>\n",
       "      <td>84.73</td>\n",
       "      <td>402.43</td>\n",
       "      <td>0.00</td>\n",
       "      <td>0.00</td>\n",
       "      <td>0.00</td>\n",
       "      <td>0.00</td>\n",
       "      <td>2015.00</td>\n",
       "    </tr>\n",
       "    <tr>\n",
       "      <th>sqft_living15</th>\n",
       "      <td>21436.00</td>\n",
       "      <td>1988.31</td>\n",
       "      <td>685.70</td>\n",
       "      <td>399.00</td>\n",
       "      <td>1490.00</td>\n",
       "      <td>1840.00</td>\n",
       "      <td>2370.00</td>\n",
       "      <td>6210.00</td>\n",
       "    </tr>\n",
       "    <tr>\n",
       "      <th>sqft_lot15</th>\n",
       "      <td>21436.00</td>\n",
       "      <td>12785.96</td>\n",
       "      <td>27375.47</td>\n",
       "      <td>651.00</td>\n",
       "      <td>5100.00</td>\n",
       "      <td>7620.00</td>\n",
       "      <td>10087.25</td>\n",
       "      <td>871200.00</td>\n",
       "    </tr>\n",
       "    <tr>\n",
       "      <th>day</th>\n",
       "      <td>21436.00</td>\n",
       "      <td>15.69</td>\n",
       "      <td>8.64</td>\n",
       "      <td>1.00</td>\n",
       "      <td>8.00</td>\n",
       "      <td>16.00</td>\n",
       "      <td>23.00</td>\n",
       "      <td>31.00</td>\n",
       "    </tr>\n",
       "    <tr>\n",
       "      <th>month</th>\n",
       "      <td>21436.00</td>\n",
       "      <td>6.56</td>\n",
       "      <td>3.12</td>\n",
       "      <td>1.00</td>\n",
       "      <td>4.00</td>\n",
       "      <td>6.00</td>\n",
       "      <td>9.00</td>\n",
       "      <td>12.00</td>\n",
       "    </tr>\n",
       "    <tr>\n",
       "      <th>year</th>\n",
       "      <td>21436.00</td>\n",
       "      <td>2014.33</td>\n",
       "      <td>0.47</td>\n",
       "      <td>2014.00</td>\n",
       "      <td>2014.00</td>\n",
       "      <td>2014.00</td>\n",
       "      <td>2015.00</td>\n",
       "      <td>2015.00</td>\n",
       "    </tr>\n",
       "  </tbody>\n",
       "</table>\n",
       "</div>"
      ],
      "text/plain": [
       "                 count      mean       std      min       25%       50%  \\\n",
       "price         21436.00 541649.96 367314.93 75000.00 324866.00 450000.00   \n",
       "bedrooms      21436.00      3.37      0.91     0.00      3.00      3.00   \n",
       "bathrooms     21436.00      2.12      0.77     0.00      1.75      2.25   \n",
       "sqft_living   21436.00   2082.70    919.15   290.00   1430.00   1920.00   \n",
       "sqft_lot      21436.00  15135.64  41538.62   520.00   5040.00   7614.00   \n",
       "floors        21436.00      1.50      0.54     1.00      1.00      1.50   \n",
       "waterfront    21436.00      0.01      0.09     0.00      0.00      0.00   \n",
       "view          21436.00      0.24      0.77     0.00      0.00      0.00   \n",
       "condition     21436.00      3.41      0.65     1.00      3.00      3.00   \n",
       "grade         21436.00      7.66      1.17     1.00      7.00      7.00   \n",
       "sqft_above    21436.00   1790.96    829.03   290.00   1200.00   1560.00   \n",
       "sqft_basement 21436.00    291.74    442.78     0.00      0.00      0.00   \n",
       "yr_built      21436.00   1971.10     29.39  1900.00   1952.00   1975.00   \n",
       "yr_renovated  21436.00     84.73    402.43     0.00      0.00      0.00   \n",
       "sqft_living15 21436.00   1988.31    685.70   399.00   1490.00   1840.00   \n",
       "sqft_lot15    21436.00  12785.96  27375.47   651.00   5100.00   7620.00   \n",
       "day           21436.00     15.69      8.64     1.00      8.00     16.00   \n",
       "month         21436.00      6.56      3.12     1.00      4.00      6.00   \n",
       "year          21436.00   2014.33      0.47  2014.00   2014.00   2014.00   \n",
       "\n",
       "                    75%        max  \n",
       "price         645000.00 7700000.00  \n",
       "bedrooms           4.00      10.00  \n",
       "bathrooms          2.50       8.00  \n",
       "sqft_living     2550.00   13540.00  \n",
       "sqft_lot       10696.25 1651359.00  \n",
       "floors             2.00       3.50  \n",
       "waterfront         0.00       1.00  \n",
       "view               0.00       4.00  \n",
       "condition          4.00       5.00  \n",
       "grade              8.00      13.00  \n",
       "sqft_above      2220.00    9410.00  \n",
       "sqft_basement    560.00    4820.00  \n",
       "yr_built        1997.00    2015.00  \n",
       "yr_renovated       0.00    2015.00  \n",
       "sqft_living15   2370.00    6210.00  \n",
       "sqft_lot15     10087.25  871200.00  \n",
       "day               23.00      31.00  \n",
       "month              9.00      12.00  \n",
       "year            2015.00    2015.00  "
      ]
     },
     "execution_count": 12,
     "metadata": {},
     "output_type": "execute_result"
    }
   ],
   "source": [
    "descriptive_statistics = pd.DataFrame(data.describe().T)\n",
    "descriptive_statistics.drop(index=['id', 'zipcode', 'lat','long'], inplace=True)\n",
    "descriptive_statistics"
   ]
  },
  {
   "cell_type": "markdown",
   "id": "1ef1b956",
   "metadata": {},
   "source": [
    "## Business Hypothesis"
   ]
  },
  {
   "cell_type": "markdown",
   "id": "ae0f8783",
   "metadata": {},
   "source": [
    "### H1. Waterfront properties are 30% more expensive, on average."
   ]
  },
  {
   "cell_type": "code",
   "execution_count": 13,
   "id": "c62626dd",
   "metadata": {
    "ExecuteTime": {
     "end_time": "2021-10-27T07:56:58.519208Z",
     "start_time": "2021-10-27T07:56:58.471195Z"
    }
   },
   "outputs": [
    {
     "data": {
      "text/html": [
       "<div>\n",
       "<style scoped>\n",
       "    .dataframe tbody tr th:only-of-type {\n",
       "        vertical-align: middle;\n",
       "    }\n",
       "\n",
       "    .dataframe tbody tr th {\n",
       "        vertical-align: top;\n",
       "    }\n",
       "\n",
       "    .dataframe thead th {\n",
       "        text-align: right;\n",
       "    }\n",
       "</style>\n",
       "<table border=\"1\" class=\"dataframe\">\n",
       "  <thead>\n",
       "    <tr style=\"text-align: right;\">\n",
       "      <th></th>\n",
       "      <th>is_waterfront</th>\n",
       "      <th>price</th>\n",
       "    </tr>\n",
       "  </thead>\n",
       "  <tbody>\n",
       "    <tr>\n",
       "      <th>0</th>\n",
       "      <td>yes</td>\n",
       "      <td>1661876.02</td>\n",
       "    </tr>\n",
       "    <tr>\n",
       "      <th>1</th>\n",
       "      <td>no</td>\n",
       "      <td>533066.46</td>\n",
       "    </tr>\n",
       "  </tbody>\n",
       "</table>\n",
       "</div>"
      ],
      "text/plain": [
       "  is_waterfront      price\n",
       "0           yes 1661876.02\n",
       "1            no  533066.46"
      ]
     },
     "execution_count": 13,
     "metadata": {},
     "output_type": "execute_result"
    }
   ],
   "source": [
    "avg_waterfront_price = data[['price', 'is_waterfront']].groupby('is_waterfront').mean().sort_values(by='price', ascending=False).reset_index()\n",
    "avg_waterfront_price"
   ]
  },
  {
   "cell_type": "code",
   "execution_count": 14,
   "id": "cd25dccb",
   "metadata": {
    "ExecuteTime": {
     "end_time": "2021-10-27T07:57:01.769807Z",
     "start_time": "2021-10-27T07:57:01.737812Z"
    }
   },
   "outputs": [
    {
     "name": "stdout",
     "output_type": "stream",
     "text": [
      "Waterfront properties are on average 211.76% more expensive than properties with no water view\n"
     ]
    }
   ],
   "source": [
    "perc_waterfront_price = (avg_waterfront_price.loc[0, 'price'] - avg_waterfront_price.loc[1, 'price']) / avg_waterfront_price.loc[1, 'price'] * 100\n",
    "perc_waterfront_price\n",
    "\n",
    "print(f\"Waterfront properties are on average {perc_waterfront_price:.2f}% more expensive than properties with no water view\")"
   ]
  },
  {
   "cell_type": "code",
   "execution_count": 15,
   "id": "1d833bff",
   "metadata": {
    "ExecuteTime": {
     "end_time": "2021-10-27T07:57:05.560012Z",
     "start_time": "2021-10-27T07:57:05.018060Z"
    }
   },
   "outputs": [
    {
     "data": {
      "image/png": "[encoded data removed]",
      "text/plain": [
       "<Figure size 576x432 with 1 Axes>"
      ]
     },
     "metadata": {
      "needs_background": "light"
     },
     "output_type": "display_data"
    }
   ],
   "source": [
    "fig, ax = plt.subplots(figsize=(8,6))\n",
    "ax = sns.barplot(x='is_waterfront', y='price', data=avg_waterfront_price)\n",
    "ax.set_title('Avg price x is_waterfront')\n",
    "ax.ticklabel_format(style='plain', axis='y')\n",
    "plt.show()"
   ]
  },
  {
   "cell_type": "markdown",
   "id": "b5bf7dd0",
   "metadata": {},
   "source": [
    "**True: Waterfront properties are 211.76% more expensive than properties with no waterfront**"
   ]
  },
  {
   "cell_type": "markdown",
   "id": "2cd6b79d",
   "metadata": {},
   "source": [
    "### H2: Properties built before 1955 are 50% cheaper in average"
   ]
  },
  {
   "cell_type": "code",
   "execution_count": 16,
   "id": "62fde6ac",
   "metadata": {
    "ExecuteTime": {
     "end_time": "2021-10-27T08:15:50.583542Z",
     "start_time": "2021-10-27T08:15:50.433715Z"
    }
   },
   "outputs": [
    {
     "data": {
      "text/html": [
       "<div>\n",
       "<style scoped>\n",
       "    .dataframe tbody tr th:only-of-type {\n",
       "        vertical-align: middle;\n",
       "    }\n",
       "\n",
       "    .dataframe tbody tr th {\n",
       "        vertical-align: top;\n",
       "    }\n",
       "\n",
       "    .dataframe thead th {\n",
       "        text-align: right;\n",
       "    }\n",
       "</style>\n",
       "<table border=\"1\" class=\"dataframe\">\n",
       "  <thead>\n",
       "    <tr style=\"text-align: right;\">\n",
       "      <th></th>\n",
       "      <th>house_age</th>\n",
       "      <th>price</th>\n",
       "    </tr>\n",
       "  </thead>\n",
       "  <tbody>\n",
       "    <tr>\n",
       "      <th>0</th>\n",
       "      <td>new_property</td>\n",
       "      <td>542265.19</td>\n",
       "    </tr>\n",
       "    <tr>\n",
       "      <th>1</th>\n",
       "      <td>old_property</td>\n",
       "      <td>540100.38</td>\n",
       "    </tr>\n",
       "  </tbody>\n",
       "</table>\n",
       "</div>"
      ],
      "text/plain": [
       "      house_age     price\n",
       "0  new_property 542265.19\n",
       "1  old_property 540100.38"
      ]
     },
     "execution_count": 16,
     "metadata": {},
     "output_type": "execute_result"
    }
   ],
   "source": [
    "avg_house_age_price = data[['price', 'house_age']].groupby('house_age').mean().reset_index()\n",
    "avg_house_age_price"
   ]
  },
  {
   "cell_type": "code",
   "execution_count": 17,
   "id": "fd84ade7",
   "metadata": {
    "ExecuteTime": {
     "end_time": "2021-10-27T08:15:54.197076Z",
     "start_time": "2021-10-27T08:15:54.170092Z"
    }
   },
   "outputs": [
    {
     "name": "stdout",
     "output_type": "stream",
     "text": [
      "Properties built before 1955 are 0.40% cheaper than those built after 1955\n"
     ]
    }
   ],
   "source": [
    "perc_house_age_price = (avg_house_age_price.loc[0, 'price'] - avg_house_age_price.loc[1, 'price']) / avg_house_age_price.loc[1, 'price'] * 100\n",
    "perc_house_age_price\n",
    "\n",
    "print(f\"Properties built before 1955 are {perc_house_age_price:.2f}% cheaper than those built after 1955\")"
   ]
  },
  {
   "cell_type": "code",
   "execution_count": 18,
   "id": "58b1e177",
   "metadata": {
    "ExecuteTime": {
     "end_time": "2021-10-27T08:15:58.126396Z",
     "start_time": "2021-10-27T08:15:57.849514Z"
    }
   },
   "outputs": [
    {
     "data": {
      "image/png": "[encoded data removed]",
      "text/plain": [
       "<Figure size 576x432 with 1 Axes>"
      ]
     },
     "metadata": {
      "needs_background": "light"
     },
     "output_type": "display_data"
    }
   ],
   "source": [
    "fig, ax = plt.subplots(figsize=(8,6))\n",
    "ax = sns.barplot(x='house_age', y='price', data=avg_house_age_price)\n",
    "ax.set_title('Avg Price x Year Built')\n",
    "plt.show()"
   ]
  },
  {
   "cell_type": "markdown",
   "id": "8a569de1",
   "metadata": {},
   "source": [
    "**False: Properties built before 1955 are only 0.40% cheaper than those built after 1955**"
   ]
  },
  {
   "cell_type": "markdown",
   "id": "e4248fee",
   "metadata": {},
   "source": [
    "### H3: Properties without basement have, in average,```sqft_lot``` 50% bigger than properties with basement"
   ]
  },
  {
   "cell_type": "code",
   "execution_count": 19,
   "id": "e50f19c5",
   "metadata": {
    "ExecuteTime": {
     "end_time": "2021-10-27T08:16:28.328819Z",
     "start_time": "2021-10-27T08:16:28.281842Z"
    }
   },
   "outputs": [
    {
     "data": {
      "text/html": [
       "<div>\n",
       "<style scoped>\n",
       "    .dataframe tbody tr th:only-of-type {\n",
       "        vertical-align: middle;\n",
       "    }\n",
       "\n",
       "    .dataframe tbody tr th {\n",
       "        vertical-align: top;\n",
       "    }\n",
       "\n",
       "    .dataframe thead th {\n",
       "        text-align: right;\n",
       "    }\n",
       "</style>\n",
       "<table border=\"1\" class=\"dataframe\">\n",
       "  <thead>\n",
       "    <tr style=\"text-align: right;\">\n",
       "      <th></th>\n",
       "      <th>basement</th>\n",
       "      <th>sqft_lot</th>\n",
       "    </tr>\n",
       "  </thead>\n",
       "  <tbody>\n",
       "    <tr>\n",
       "      <th>0</th>\n",
       "      <td>no</td>\n",
       "      <td>16325.93</td>\n",
       "    </tr>\n",
       "    <tr>\n",
       "      <th>1</th>\n",
       "      <td>yes</td>\n",
       "      <td>13295.99</td>\n",
       "    </tr>\n",
       "  </tbody>\n",
       "</table>\n",
       "</div>"
      ],
      "text/plain": [
       "  basement  sqft_lot\n",
       "0       no  16325.93\n",
       "1      yes  13295.99"
      ]
     },
     "execution_count": 19,
     "metadata": {},
     "output_type": "execute_result"
    }
   ],
   "source": [
    "avg_sqftlot_basement = data[['sqft_lot', 'basement']].groupby('basement').mean().reset_index()\n",
    "avg_sqftlot_basement"
   ]
  },
  {
   "cell_type": "code",
   "execution_count": 20,
   "id": "5bf21b37",
   "metadata": {
    "ExecuteTime": {
     "end_time": "2021-10-27T08:16:32.067029Z",
     "start_time": "2021-10-27T08:16:32.055039Z"
    }
   },
   "outputs": [
    {
     "name": "stdout",
     "output_type": "stream",
     "text": [
      "Properties without basement have sqft_lot 18.56% bigger than properties with basement\n"
     ]
    }
   ],
   "source": [
    "perc_sqftlot_basement = (avg_sqftlot_basement.loc[0, 'sqft_lot'] - avg_sqftlot_basement.loc[1, 'sqft_lot'])  / avg_sqftlot_basement.loc[0, 'sqft_lot'] * 100\n",
    "perc_sqftlot_basement\n",
    "\n",
    "print(f\"Properties without basement have sqft_lot {perc_sqftlot_basement:.2f}% bigger than properties with basement\")"
   ]
  },
  {
   "cell_type": "code",
   "execution_count": 21,
   "id": "80c199a7",
   "metadata": {
    "ExecuteTime": {
     "end_time": "2021-10-27T08:16:38.237475Z",
     "start_time": "2021-10-27T08:16:37.767938Z"
    },
    "scrolled": false
   },
   "outputs": [
    {
     "data": {
      "image/png": "[encoded data removed]",
      "text/plain": [
       "<Figure size 576x432 with 1 Axes>"
      ]
     },
     "metadata": {
      "needs_background": "light"
     },
     "output_type": "display_data"
    }
   ],
   "source": [
    "fig, ax = plt.subplots(figsize=(8,6))\n",
    "ax = sns.barplot(x='basement', y='sqft_lot', data=avg_sqftlot_basement)\n",
    "ax.set_title(\"AVG Sqft_lot x Basement\")\n",
    "plt.show()"
   ]
  },
  {
   "cell_type": "markdown",
   "id": "9d0140f4",
   "metadata": {},
   "source": [
    "**False: Properties without basement have lot area 18,56% bigger than properties with basement**"
   ]
  },
  {
   "cell_type": "markdown",
   "id": "34f10ef0",
   "metadata": {},
   "source": [
    "### H4: The average growth in property prices YoY (year over year) is 10%"
   ]
  },
  {
   "cell_type": "code",
   "execution_count": 22,
   "id": "fc5053a5",
   "metadata": {
    "ExecuteTime": {
     "end_time": "2021-10-27T08:17:14.362201Z",
     "start_time": "2021-10-27T08:17:14.325224Z"
    }
   },
   "outputs": [
    {
     "data": {
      "text/html": [
       "<div>\n",
       "<style scoped>\n",
       "    .dataframe tbody tr th:only-of-type {\n",
       "        vertical-align: middle;\n",
       "    }\n",
       "\n",
       "    .dataframe tbody tr th {\n",
       "        vertical-align: top;\n",
       "    }\n",
       "\n",
       "    .dataframe thead th {\n",
       "        text-align: right;\n",
       "    }\n",
       "</style>\n",
       "<table border=\"1\" class=\"dataframe\">\n",
       "  <thead>\n",
       "    <tr style=\"text-align: right;\">\n",
       "      <th></th>\n",
       "      <th>year</th>\n",
       "      <th>price</th>\n",
       "    </tr>\n",
       "  </thead>\n",
       "  <tbody>\n",
       "    <tr>\n",
       "      <th>0</th>\n",
       "      <td>2014</td>\n",
       "      <td>541334.57</td>\n",
       "    </tr>\n",
       "    <tr>\n",
       "      <th>1</th>\n",
       "      <td>2015</td>\n",
       "      <td>542304.27</td>\n",
       "    </tr>\n",
       "  </tbody>\n",
       "</table>\n",
       "</div>"
      ],
      "text/plain": [
       "   year     price\n",
       "0  2014 541334.57\n",
       "1  2015 542304.27"
      ]
     },
     "execution_count": 22,
     "metadata": {},
     "output_type": "execute_result"
    }
   ],
   "source": [
    "avg_price_year = data[['price', 'year']].groupby('year').mean().reset_index()\n",
    "avg_price_year"
   ]
  },
  {
   "cell_type": "code",
   "execution_count": 23,
   "id": "37cf126b",
   "metadata": {
    "ExecuteTime": {
     "end_time": "2021-10-27T08:17:18.262993Z",
     "start_time": "2021-10-27T08:17:18.233993Z"
    }
   },
   "outputs": [
    {
     "name": "stdout",
     "output_type": "stream",
     "text": [
      "The average price growth year over year is 0.18%\n"
     ]
    }
   ],
   "source": [
    "perc_avg_price_year = (avg_price_year.loc[1, 'price'] - avg_price_year.loc[0, 'price']) / avg_price_year.loc[1, 'price'] * 100\n",
    "perc_avg_price_year\n",
    "\n",
    "print(f\"The average price growth year over year is {perc_avg_price_year:.2f}%\")"
   ]
  },
  {
   "cell_type": "code",
   "execution_count": 24,
   "id": "6d18fdc6",
   "metadata": {
    "ExecuteTime": {
     "end_time": "2021-10-27T08:17:22.569855Z",
     "start_time": "2021-10-27T08:17:22.299480Z"
    }
   },
   "outputs": [
    {
     "data": {
      "image/png": "[encoded data removed]",
      "text/plain": [
       "<Figure size 576x432 with 1 Axes>"
      ]
     },
     "metadata": {
      "needs_background": "light"
     },
     "output_type": "display_data"
    }
   ],
   "source": [
    "fig, ax = plt.subplots(figsize=(8,6))\n",
    "ax = sns.barplot(x='year', y='price', data=avg_price_year)\n",
    "ax.set_title(\"AVG Price x Year\")\n",
    "plt.show()"
   ]
  },
  {
   "cell_type": "markdown",
   "id": "d9627f99",
   "metadata": {},
   "source": [
    "**False: The average price growth year over year was only 0.18%**"
   ]
  },
  {
   "cell_type": "markdown",
   "id": "8dc198e3",
   "metadata": {},
   "source": [
    "### H5: Properties with 3 bathrooms have an average price growth month over month (MoM) about 15%"
   ]
  },
  {
   "cell_type": "code",
   "execution_count": 25,
   "id": "6ee5ec86",
   "metadata": {
    "ExecuteTime": {
     "end_time": "2021-10-27T08:17:41.678902Z",
     "start_time": "2021-10-27T08:17:41.623380Z"
    }
   },
   "outputs": [
    {
     "data": {
      "text/html": [
       "<div>\n",
       "<style scoped>\n",
       "    .dataframe tbody tr th:only-of-type {\n",
       "        vertical-align: middle;\n",
       "    }\n",
       "\n",
       "    .dataframe tbody tr th {\n",
       "        vertical-align: top;\n",
       "    }\n",
       "\n",
       "    .dataframe thead th {\n",
       "        text-align: right;\n",
       "    }\n",
       "</style>\n",
       "<table border=\"1\" class=\"dataframe\">\n",
       "  <thead>\n",
       "    <tr style=\"text-align: right;\">\n",
       "      <th></th>\n",
       "      <th>month</th>\n",
       "      <th>price</th>\n",
       "    </tr>\n",
       "  </thead>\n",
       "  <tbody>\n",
       "    <tr>\n",
       "      <th>0</th>\n",
       "      <td>1</td>\n",
       "      <td>672923.17</td>\n",
       "    </tr>\n",
       "    <tr>\n",
       "      <th>1</th>\n",
       "      <td>2</td>\n",
       "      <td>696714.42</td>\n",
       "    </tr>\n",
       "    <tr>\n",
       "      <th>2</th>\n",
       "      <td>3</td>\n",
       "      <td>768495.10</td>\n",
       "    </tr>\n",
       "    <tr>\n",
       "      <th>3</th>\n",
       "      <td>4</td>\n",
       "      <td>709751.99</td>\n",
       "    </tr>\n",
       "    <tr>\n",
       "      <th>4</th>\n",
       "      <td>5</td>\n",
       "      <td>691097.63</td>\n",
       "    </tr>\n",
       "    <tr>\n",
       "      <th>5</th>\n",
       "      <td>6</td>\n",
       "      <td>764084.29</td>\n",
       "    </tr>\n",
       "    <tr>\n",
       "      <th>6</th>\n",
       "      <td>7</td>\n",
       "      <td>741405.04</td>\n",
       "    </tr>\n",
       "    <tr>\n",
       "      <th>7</th>\n",
       "      <td>8</td>\n",
       "      <td>743506.45</td>\n",
       "    </tr>\n",
       "    <tr>\n",
       "      <th>8</th>\n",
       "      <td>9</td>\n",
       "      <td>650464.70</td>\n",
       "    </tr>\n",
       "    <tr>\n",
       "      <th>9</th>\n",
       "      <td>10</td>\n",
       "      <td>646302.35</td>\n",
       "    </tr>\n",
       "    <tr>\n",
       "      <th>10</th>\n",
       "      <td>11</td>\n",
       "      <td>679910.47</td>\n",
       "    </tr>\n",
       "    <tr>\n",
       "      <th>11</th>\n",
       "      <td>12</td>\n",
       "      <td>728341.19</td>\n",
       "    </tr>\n",
       "  </tbody>\n",
       "</table>\n",
       "</div>"
      ],
      "text/plain": [
       "    month     price\n",
       "0       1 672923.17\n",
       "1       2 696714.42\n",
       "2       3 768495.10\n",
       "3       4 709751.99\n",
       "4       5 691097.63\n",
       "5       6 764084.29\n",
       "6       7 741405.04\n",
       "7       8 743506.45\n",
       "8       9 650464.70\n",
       "9      10 646302.35\n",
       "10     11 679910.47\n",
       "11     12 728341.19"
      ]
     },
     "execution_count": 25,
     "metadata": {},
     "output_type": "execute_result"
    }
   ],
   "source": [
    "avg_price_bathroom = data.loc[data['bathrooms'] == 3, ['price', 'month']].groupby('month').mean().reset_index()\n",
    "avg_price_bathroom"
   ]
  },
  {
   "cell_type": "code",
   "execution_count": 26,
   "id": "13de45cb",
   "metadata": {
    "ExecuteTime": {
     "end_time": "2021-10-27T08:17:45.866009Z",
     "start_time": "2021-10-27T08:17:45.837290Z"
    }
   },
   "outputs": [],
   "source": [
    "variation = [0]\n",
    "for i in range(0, 12):\n",
    "    if i == 0:\n",
    "        pass\n",
    "    else:\n",
    "        variation.append((avg_price_bathroom.loc[i, 'price'] - avg_price_bathroom.loc[i-1, 'price']) / avg_price_bathroom.loc[i-1, 'price'] * 100)\n",
    "\n",
    "\n",
    "avg_price_bathroom['% variation'] = variation"
   ]
  },
  {
   "cell_type": "code",
   "execution_count": 27,
   "id": "1f42ce2c",
   "metadata": {
    "ExecuteTime": {
     "end_time": "2021-10-27T08:17:50.277074Z",
     "start_time": "2021-10-27T08:17:50.250090Z"
    }
   },
   "outputs": [
    {
     "data": {
      "text/html": [
       "<div>\n",
       "<style scoped>\n",
       "    .dataframe tbody tr th:only-of-type {\n",
       "        vertical-align: middle;\n",
       "    }\n",
       "\n",
       "    .dataframe tbody tr th {\n",
       "        vertical-align: top;\n",
       "    }\n",
       "\n",
       "    .dataframe thead th {\n",
       "        text-align: right;\n",
       "    }\n",
       "</style>\n",
       "<table border=\"1\" class=\"dataframe\">\n",
       "  <thead>\n",
       "    <tr style=\"text-align: right;\">\n",
       "      <th></th>\n",
       "      <th>month</th>\n",
       "      <th>price</th>\n",
       "      <th>% variation</th>\n",
       "    </tr>\n",
       "  </thead>\n",
       "  <tbody>\n",
       "    <tr>\n",
       "      <th>0</th>\n",
       "      <td>1</td>\n",
       "      <td>672923.17</td>\n",
       "      <td>0.00</td>\n",
       "    </tr>\n",
       "    <tr>\n",
       "      <th>1</th>\n",
       "      <td>2</td>\n",
       "      <td>696714.42</td>\n",
       "      <td>3.54</td>\n",
       "    </tr>\n",
       "    <tr>\n",
       "      <th>2</th>\n",
       "      <td>3</td>\n",
       "      <td>768495.10</td>\n",
       "      <td>10.30</td>\n",
       "    </tr>\n",
       "    <tr>\n",
       "      <th>3</th>\n",
       "      <td>4</td>\n",
       "      <td>709751.99</td>\n",
       "      <td>-7.64</td>\n",
       "    </tr>\n",
       "    <tr>\n",
       "      <th>4</th>\n",
       "      <td>5</td>\n",
       "      <td>691097.63</td>\n",
       "      <td>-2.63</td>\n",
       "    </tr>\n",
       "    <tr>\n",
       "      <th>5</th>\n",
       "      <td>6</td>\n",
       "      <td>764084.29</td>\n",
       "      <td>10.56</td>\n",
       "    </tr>\n",
       "    <tr>\n",
       "      <th>6</th>\n",
       "      <td>7</td>\n",
       "      <td>741405.04</td>\n",
       "      <td>-2.97</td>\n",
       "    </tr>\n",
       "    <tr>\n",
       "      <th>7</th>\n",
       "      <td>8</td>\n",
       "      <td>743506.45</td>\n",
       "      <td>0.28</td>\n",
       "    </tr>\n",
       "    <tr>\n",
       "      <th>8</th>\n",
       "      <td>9</td>\n",
       "      <td>650464.70</td>\n",
       "      <td>-12.51</td>\n",
       "    </tr>\n",
       "    <tr>\n",
       "      <th>9</th>\n",
       "      <td>10</td>\n",
       "      <td>646302.35</td>\n",
       "      <td>-0.64</td>\n",
       "    </tr>\n",
       "    <tr>\n",
       "      <th>10</th>\n",
       "      <td>11</td>\n",
       "      <td>679910.47</td>\n",
       "      <td>5.20</td>\n",
       "    </tr>\n",
       "    <tr>\n",
       "      <th>11</th>\n",
       "      <td>12</td>\n",
       "      <td>728341.19</td>\n",
       "      <td>7.12</td>\n",
       "    </tr>\n",
       "  </tbody>\n",
       "</table>\n",
       "</div>"
      ],
      "text/plain": [
       "    month     price  % variation\n",
       "0       1 672923.17         0.00\n",
       "1       2 696714.42         3.54\n",
       "2       3 768495.10        10.30\n",
       "3       4 709751.99        -7.64\n",
       "4       5 691097.63        -2.63\n",
       "5       6 764084.29        10.56\n",
       "6       7 741405.04        -2.97\n",
       "7       8 743506.45         0.28\n",
       "8       9 650464.70       -12.51\n",
       "9      10 646302.35        -0.64\n",
       "10     11 679910.47         5.20\n",
       "11     12 728341.19         7.12"
      ]
     },
     "execution_count": 27,
     "metadata": {},
     "output_type": "execute_result"
    }
   ],
   "source": [
    "avg_price_bathroom"
   ]
  },
  {
   "cell_type": "code",
   "execution_count": 28,
   "id": "e7b91d53",
   "metadata": {
    "ExecuteTime": {
     "end_time": "2021-10-27T08:17:54.287622Z",
     "start_time": "2021-10-27T08:17:53.932737Z"
    }
   },
   "outputs": [
    {
     "data": {
      "image/png": "[encoded data removed]",
      "text/plain": [
       "<Figure size 720x432 with 1 Axes>"
      ]
     },
     "metadata": {
      "needs_background": "light"
     },
     "output_type": "display_data"
    }
   ],
   "source": [
    "fig, ax = plt.subplots(figsize=(10,6))\n",
    "ax = sns.lineplot(x='month', y='price', data=avg_price_bathroom)\n",
    "plt.show()"
   ]
  },
  {
   "cell_type": "markdown",
   "id": "d2025d14",
   "metadata": {},
   "source": [
    "**False: There is no constant average growth in the price of 3-bathroom properties**\n"
   ]
  },
  {
   "cell_type": "markdown",
   "id": "8147584b",
   "metadata": {},
   "source": [
    "### H6: Properties in excellent condition are in average, 25% more expensive than properties in terrible condition"
   ]
  },
  {
   "cell_type": "code",
   "execution_count": 29,
   "id": "529a6d2f",
   "metadata": {
    "ExecuteTime": {
     "end_time": "2021-10-27T08:28:50.682851Z",
     "start_time": "2021-10-27T08:28:50.635631Z"
    }
   },
   "outputs": [
    {
     "data": {
      "text/html": [
       "<div>\n",
       "<style scoped>\n",
       "    .dataframe tbody tr th:only-of-type {\n",
       "        vertical-align: middle;\n",
       "    }\n",
       "\n",
       "    .dataframe tbody tr th {\n",
       "        vertical-align: top;\n",
       "    }\n",
       "\n",
       "    .dataframe thead th {\n",
       "        text-align: right;\n",
       "    }\n",
       "</style>\n",
       "<table border=\"1\" class=\"dataframe\">\n",
       "  <thead>\n",
       "    <tr style=\"text-align: right;\">\n",
       "      <th></th>\n",
       "      <th>condition_type</th>\n",
       "      <th>price</th>\n",
       "    </tr>\n",
       "  </thead>\n",
       "  <tbody>\n",
       "    <tr>\n",
       "      <th>0</th>\n",
       "      <td>excellent</td>\n",
       "      <td>613127.48</td>\n",
       "    </tr>\n",
       "    <tr>\n",
       "      <th>1</th>\n",
       "      <td>terrible</td>\n",
       "      <td>342325.86</td>\n",
       "    </tr>\n",
       "  </tbody>\n",
       "</table>\n",
       "</div>"
      ],
      "text/plain": [
       "  condition_type     price\n",
       "0      excellent 613127.48\n",
       "1       terrible 342325.86"
      ]
     },
     "execution_count": 29,
     "metadata": {},
     "output_type": "execute_result"
    }
   ],
   "source": [
    "avg_price_condition = data.loc[data['condition_type'].isin(['terrible', 'excellent']), ['price', 'condition_type']].groupby('condition_type').mean().reset_index()\n",
    "avg_price_condition"
   ]
  },
  {
   "cell_type": "code",
   "execution_count": 30,
   "id": "92d7190c",
   "metadata": {
    "ExecuteTime": {
     "end_time": "2021-10-27T08:28:55.396107Z",
     "start_time": "2021-10-27T08:28:55.384116Z"
    }
   },
   "outputs": [
    {
     "name": "stdout",
     "output_type": "stream",
     "text": [
      "Properties in excellent condition are, in average 44.17% more expensive than properties in terrible condition\n"
     ]
    }
   ],
   "source": [
    "perc_avg_price_condition = (avg_price_condition.loc[0, 'price'] - avg_price_condition.loc[1, 'price']) / avg_price_condition.loc[0, 'price'] * 100\n",
    "perc_avg_price_condition\n",
    "\n",
    "print(f\"Properties in excellent condition are, in average {perc_avg_price_condition:.2f}% more expensive than properties in terrible condition\")"
   ]
  },
  {
   "cell_type": "code",
   "execution_count": 31,
   "id": "55ff2ebc",
   "metadata": {
    "ExecuteTime": {
     "end_time": "2021-10-27T08:28:59.760060Z",
     "start_time": "2021-10-27T08:28:59.506223Z"
    }
   },
   "outputs": [
    {
     "data": {
      "image/png": "[encoded data removed]",
      "text/plain": [
       "<Figure size 576x432 with 1 Axes>"
      ]
     },
     "metadata": {
      "needs_background": "light"
     },
     "output_type": "display_data"
    }
   ],
   "source": [
    "fig, ax = plt.subplots(figsize=(8,6))\n",
    "ax = sns.barplot(x='condition_type', y='price', data=avg_price_condition)"
   ]
  },
  {
   "cell_type": "markdown",
   "id": "96fe90ae",
   "metadata": {},
   "source": [
    "**True: Properties in excellent condition are, in average 44,17% more expensive than properties in terrible condition**"
   ]
  },
  {
   "cell_type": "markdown",
   "id": "6b6027d5",
   "metadata": {},
   "source": [
    "### H7: The price of properties with more than 50 years of construction and which have undergone renovation is in average, 20% higher than those that have not been renovated"
   ]
  },
  {
   "cell_type": "code",
   "execution_count": 32,
   "id": "87858dfa",
   "metadata": {
    "ExecuteTime": {
     "end_time": "2021-10-27T08:30:07.480826Z",
     "start_time": "2021-10-27T08:30:07.437847Z"
    },
    "scrolled": true
   },
   "outputs": [
    {
     "data": {
      "text/html": [
       "<div>\n",
       "<style scoped>\n",
       "    .dataframe tbody tr th:only-of-type {\n",
       "        vertical-align: middle;\n",
       "    }\n",
       "\n",
       "    .dataframe tbody tr th {\n",
       "        vertical-align: top;\n",
       "    }\n",
       "\n",
       "    .dataframe thead th {\n",
       "        text-align: right;\n",
       "    }\n",
       "</style>\n",
       "<table border=\"1\" class=\"dataframe\">\n",
       "  <thead>\n",
       "    <tr style=\"text-align: right;\">\n",
       "      <th></th>\n",
       "      <th>renovated</th>\n",
       "      <th>price</th>\n",
       "    </tr>\n",
       "  </thead>\n",
       "  <tbody>\n",
       "    <tr>\n",
       "      <th>0</th>\n",
       "      <td>no</td>\n",
       "      <td>496127.58</td>\n",
       "    </tr>\n",
       "    <tr>\n",
       "      <th>1</th>\n",
       "      <td>yes</td>\n",
       "      <td>747174.34</td>\n",
       "    </tr>\n",
       "  </tbody>\n",
       "</table>\n",
       "</div>"
      ],
      "text/plain": [
       "  renovated     price\n",
       "0        no 496127.58\n",
       "1       yes 747174.34"
      ]
     },
     "execution_count": 32,
     "metadata": {},
     "output_type": "execute_result"
    }
   ],
   "source": [
    "avg_price_renovated = data.loc[data['yr_built'] < 1965, ['price', 'renovated']].groupby('renovated').mean().reset_index()\n",
    "avg_price_renovated"
   ]
  },
  {
   "cell_type": "code",
   "execution_count": 51,
   "id": "3d349d3f",
   "metadata": {
    "ExecuteTime": {
     "end_time": "2021-10-27T09:06:28.181654Z",
     "start_time": "2021-10-27T09:06:28.162685Z"
    }
   },
   "outputs": [
    {
     "name": "stdout",
     "output_type": "stream",
     "text": [
      "The price of properties with more than 50 years of construction and undergone renovation are in average 33.60% higher than those that haven't been renovated \n"
     ]
    }
   ],
   "source": [
    "perc_avg_price_renovated = (avg_price_renovated.loc[1, 'price'] - avg_price_renovated.loc[0, 'price']) / avg_price_renovated.loc[1, 'price'] * 100\n",
    "perc_avg_price_renovated\n",
    "\n",
    "print(f\"The price of properties with more than 50 years of construction and undergone renovation are in average {perc_avg_price_renovated:.2f}% higher than those that haven't been renovated \")"
   ]
  },
  {
   "cell_type": "code",
   "execution_count": 34,
   "id": "a4d96a8c",
   "metadata": {
    "ExecuteTime": {
     "end_time": "2021-10-27T08:30:16.959095Z",
     "start_time": "2021-10-27T08:30:16.580205Z"
    }
   },
   "outputs": [
    {
     "data": {
      "image/png": "[encoded data removed]",
      "text/plain": [
       "<Figure size 576x432 with 1 Axes>"
      ]
     },
     "metadata": {
      "needs_background": "light"
     },
     "output_type": "display_data"
    }
   ],
   "source": [
    "fig, ax = plt.subplots(figsize=(8,6))\n",
    "ax = sns.barplot(x='renovated', y='price', data=avg_price_renovated)\n",
    "ax.set_title(\"Avg price x Renovated in properties with more than 50 year of construction\")\n",
    "plt.show()"
   ]
  },
  {
   "cell_type": "markdown",
   "id": "7916edc2",
   "metadata": {},
   "source": [
    "**True: The price of properties with more than 50 years of construction and undergone renovation are in average 33.60% higher than those that haven't been renovated**"
   ]
  },
  {
   "cell_type": "markdown",
   "id": "c9897b28",
   "metadata": {},
   "source": [
    "### H8: In properties with water view, the price is on average 20% higher for those with an excellent view, compared to those with a regular view"
   ]
  },
  {
   "cell_type": "code",
   "execution_count": 35,
   "id": "21caef36",
   "metadata": {
    "ExecuteTime": {
     "end_time": "2021-10-27T08:30:46.033235Z",
     "start_time": "2021-10-27T08:30:45.985264Z"
    }
   },
   "outputs": [
    {
     "data": {
      "text/html": [
       "<div>\n",
       "<style scoped>\n",
       "    .dataframe tbody tr th:only-of-type {\n",
       "        vertical-align: middle;\n",
       "    }\n",
       "\n",
       "    .dataframe tbody tr th {\n",
       "        vertical-align: top;\n",
       "    }\n",
       "\n",
       "    .dataframe thead th {\n",
       "        text-align: right;\n",
       "    }\n",
       "</style>\n",
       "<table border=\"1\" class=\"dataframe\">\n",
       "  <thead>\n",
       "    <tr style=\"text-align: right;\">\n",
       "      <th></th>\n",
       "      <th>view_type</th>\n",
       "      <th>price</th>\n",
       "    </tr>\n",
       "  </thead>\n",
       "  <tbody>\n",
       "    <tr>\n",
       "      <th>0</th>\n",
       "      <td>excellent</td>\n",
       "      <td>1727691.05</td>\n",
       "    </tr>\n",
       "    <tr>\n",
       "      <th>1</th>\n",
       "      <td>regular</td>\n",
       "      <td>1841875.00</td>\n",
       "    </tr>\n",
       "  </tbody>\n",
       "</table>\n",
       "</div>"
      ],
      "text/plain": [
       "   view_type      price\n",
       "0  excellent 1727691.05\n",
       "1    regular 1841875.00"
      ]
     },
     "execution_count": 35,
     "metadata": {},
     "output_type": "execute_result"
    }
   ],
   "source": [
    "avg_waterfront_view = data.loc[(data['is_waterfront'] == 'yes') & (data['view_type'].isin(['regular', 'excellent'])), ['price', 'view_type']].groupby('view_type').mean().reset_index()\n",
    "avg_waterfront_view"
   ]
  },
  {
   "cell_type": "code",
   "execution_count": 36,
   "id": "ca9dec3d",
   "metadata": {
    "ExecuteTime": {
     "end_time": "2021-10-27T08:30:50.334171Z",
     "start_time": "2021-10-27T08:30:50.321168Z"
    }
   },
   "outputs": [
    {
     "name": "stdout",
     "output_type": "stream",
     "text": [
      "The average price of properties with water view is 6.61% higher for those with regular view, compared to those with excellent view\n"
     ]
    }
   ],
   "source": [
    "perc_waterfront_view = (avg_waterfront_view.loc[1, 'price'] - avg_waterfront_view.loc[0, 'price']) / avg_waterfront_view.loc[0, 'price'] * 100\n",
    "perc_waterfront_view\n",
    "\n",
    "print(f\"The average price of properties with water view is {perc_waterfront_view:.2f}% higher for those with regular view, compared to those with excellent view\")"
   ]
  },
  {
   "cell_type": "code",
   "execution_count": 37,
   "id": "f9b3120f",
   "metadata": {
    "ExecuteTime": {
     "end_time": "2021-10-27T08:30:55.106015Z",
     "start_time": "2021-10-27T08:30:54.851181Z"
    }
   },
   "outputs": [
    {
     "data": {
      "image/png": "[encoded data removed]",
      "text/plain": [
       "<Figure size 576x432 with 1 Axes>"
      ]
     },
     "metadata": {
      "needs_background": "light"
     },
     "output_type": "display_data"
    }
   ],
   "source": [
    "fig, ax = plt.subplots(figsize=(8,6))\n",
    "ax = sns.barplot(x='view_type', y='price', data=avg_waterfront_view)\n",
    "ax.set_title('Avg Price x View Type in properties with water view ')\n",
    "plt.show()"
   ]
  },
  {
   "cell_type": "markdown",
   "id": "cb617c29",
   "metadata": {},
   "source": [
    "**False: The average price of properties with water view is 6.61% higher for those with regular view, compared to those with excellent view**"
   ]
  },
  {
   "cell_type": "markdown",
   "id": "bbb6cff7",
   "metadata": {},
   "source": [
    "### H9: The average living room size in high-standard properties is 35% larger than in low-standard properties"
   ]
  },
  {
   "cell_type": "code",
   "execution_count": 38,
   "id": "4207197e",
   "metadata": {
    "ExecuteTime": {
     "end_time": "2021-10-27T08:31:17.377099Z",
     "start_time": "2021-10-27T08:31:17.343389Z"
    }
   },
   "outputs": [
    {
     "data": {
      "text/html": [
       "<div>\n",
       "<style scoped>\n",
       "    .dataframe tbody tr th:only-of-type {\n",
       "        vertical-align: middle;\n",
       "    }\n",
       "\n",
       "    .dataframe tbody tr th {\n",
       "        vertical-align: top;\n",
       "    }\n",
       "\n",
       "    .dataframe thead th {\n",
       "        text-align: right;\n",
       "    }\n",
       "</style>\n",
       "<table border=\"1\" class=\"dataframe\">\n",
       "  <thead>\n",
       "    <tr style=\"text-align: right;\">\n",
       "      <th></th>\n",
       "      <th>standard</th>\n",
       "      <th>sqft_living</th>\n",
       "    </tr>\n",
       "  </thead>\n",
       "  <tbody>\n",
       "    <tr>\n",
       "      <th>0</th>\n",
       "      <td>high_standard</td>\n",
       "      <td>2741.78</td>\n",
       "    </tr>\n",
       "    <tr>\n",
       "      <th>1</th>\n",
       "      <td>low_standard</td>\n",
       "      <td>1698.43</td>\n",
       "    </tr>\n",
       "  </tbody>\n",
       "</table>\n",
       "</div>"
      ],
      "text/plain": [
       "        standard  sqft_living\n",
       "0  high_standard      2741.78\n",
       "1   low_standard      1698.43"
      ]
     },
     "execution_count": 38,
     "metadata": {},
     "output_type": "execute_result"
    }
   ],
   "source": [
    "avg_sqft_living_standard = data[['sqft_living', 'standard']].groupby('standard').mean().reset_index()\n",
    "avg_sqft_living_standard"
   ]
  },
  {
   "cell_type": "code",
   "execution_count": 39,
   "id": "3d3096bd",
   "metadata": {
    "ExecuteTime": {
     "end_time": "2021-10-27T08:31:22.049659Z",
     "start_time": "2021-10-27T08:31:22.037664Z"
    },
    "scrolled": true
   },
   "outputs": [
    {
     "name": "stdout",
     "output_type": "stream",
     "text": [
      "The average living room size in high-standard properties is 38.05% larger than in low-standard properties\n"
     ]
    }
   ],
   "source": [
    "perc_avg_sqft_living_standard = (avg_sqft_living_standard.loc[0, 'sqft_living'] - avg_sqft_living_standard.loc[1, 'sqft_living']) / avg_sqft_living_standard.loc[0, 'sqft_living'] * 100\n",
    "perc_avg_sqft_living_standard\n",
    "\n",
    "print(f\"The average living room size in high-standard properties is {perc_avg_sqft_living_standard:.2f}% larger than in low-standard properties\")"
   ]
  },
  {
   "cell_type": "code",
   "execution_count": 40,
   "id": "63db90a5",
   "metadata": {
    "ExecuteTime": {
     "end_time": "2021-10-27T08:31:27.378596Z",
     "start_time": "2021-10-27T08:31:27.122312Z"
    }
   },
   "outputs": [
    {
     "data": {
      "text/plain": [
       "Text(0.5, 1.0, 'Avg size of sqft_living vs Standard')"
      ]
     },
     "execution_count": 40,
     "metadata": {},
     "output_type": "execute_result"
    },
    {
     "data": {
      "image/png": "[encoded data removed]",
      "text/plain": [
       "<Figure size 576x432 with 1 Axes>"
      ]
     },
     "metadata": {
      "needs_background": "light"
     },
     "output_type": "display_data"
    }
   ],
   "source": [
    "fig, ax = plt.subplots(figsize=(8,6))\n",
    "ax = sns.barplot(x='standard', y='sqft_living', data=avg_sqft_living_standard)\n",
    "ax.set_title(\"Avg size of sqft_living vs Standard\")"
   ]
  },
  {
   "cell_type": "markdown",
   "id": "6e2afbdc",
   "metadata": {},
   "source": [
    "**True: The average living room size in high-standard properties is 38.05% larger than in low-standard properties**"
   ]
  },
  {
   "cell_type": "markdown",
   "id": "e0cb309f",
   "metadata": {},
   "source": [
    "### H10: The price of the properties are on average 10% higher in summer than in winter\n"
   ]
  },
  {
   "cell_type": "code",
   "execution_count": 45,
   "id": "3161d94a",
   "metadata": {
    "ExecuteTime": {
     "end_time": "2021-10-27T08:34:16.492616Z",
     "start_time": "2021-10-27T08:34:16.462636Z"
    }
   },
   "outputs": [
    {
     "data": {
      "text/html": [
       "<div>\n",
       "<style scoped>\n",
       "    .dataframe tbody tr th:only-of-type {\n",
       "        vertical-align: middle;\n",
       "    }\n",
       "\n",
       "    .dataframe tbody tr th {\n",
       "        vertical-align: top;\n",
       "    }\n",
       "\n",
       "    .dataframe thead th {\n",
       "        text-align: right;\n",
       "    }\n",
       "</style>\n",
       "<table border=\"1\" class=\"dataframe\">\n",
       "  <thead>\n",
       "    <tr style=\"text-align: right;\">\n",
       "      <th></th>\n",
       "      <th>seasons</th>\n",
       "      <th>price</th>\n",
       "    </tr>\n",
       "  </thead>\n",
       "  <tbody>\n",
       "    <tr>\n",
       "      <th>0</th>\n",
       "      <td>summer</td>\n",
       "      <td>548939.99</td>\n",
       "    </tr>\n",
       "    <tr>\n",
       "      <th>1</th>\n",
       "      <td>winter</td>\n",
       "      <td>520295.47</td>\n",
       "    </tr>\n",
       "  </tbody>\n",
       "</table>\n",
       "</div>"
      ],
      "text/plain": [
       "  seasons     price\n",
       "0  summer 548939.99\n",
       "1  winter 520295.47"
      ]
     },
     "execution_count": 45,
     "metadata": {},
     "output_type": "execute_result"
    }
   ],
   "source": [
    "avg_price_season = data.loc[data['seasons'].isin(['summer', 'winter']), ['seasons', 'price']].groupby('seasons').mean().reset_index()\n",
    "avg_price_season"
   ]
  },
  {
   "cell_type": "code",
   "execution_count": 48,
   "id": "db1a2a94",
   "metadata": {
    "ExecuteTime": {
     "end_time": "2021-10-27T08:35:50.390613Z",
     "start_time": "2021-10-27T08:35:50.372608Z"
    },
    "scrolled": true
   },
   "outputs": [
    {
     "name": "stdout",
     "output_type": "stream",
     "text": [
      "The price of the properties are 5.22% higher in summer compared to winter\n"
     ]
    }
   ],
   "source": [
    "perc_avg_price_season = (avg_price_season.loc[0, 'price'] - avg_price_season.loc[1, 'price']) / avg_price_season.loc[0, 'price'] * 100\n",
    "perc_avg_price_season\n",
    "\n",
    "print(f\"The price of the properties are {perc_avg_price_season:.2f}% higher in summer compared to winter\")"
   ]
  },
  {
   "cell_type": "code",
   "execution_count": 49,
   "id": "74a31558",
   "metadata": {
    "ExecuteTime": {
     "end_time": "2021-10-27T08:35:56.187645Z",
     "start_time": "2021-10-27T08:35:55.967942Z"
    },
    "scrolled": false
   },
   "outputs": [
    {
     "data": {
      "image/png": "[encoded data removed]",
      "text/plain": [
       "<Figure size 576x432 with 1 Axes>"
      ]
     },
     "metadata": {
      "needs_background": "light"
     },
     "output_type": "display_data"
    }
   ],
   "source": [
    "fig, ax = plt.subplots(figsize=(8,6))\n",
    "ax = sns.barplot(x='seasons', y='price', data=avg_price_season)\n",
    "plt.show()"
   ]
  },
  {
   "cell_type": "markdown",
   "id": "99d91909",
   "metadata": {},
   "source": [
    "**False: The price of the properties are only 5.22% higher in summer compared to winter**"
   ]
  },
  {
   "cell_type": "markdown",
   "id": "98c7c2cb",
   "metadata": {},
   "source": [
    "# Answering the business questions"
   ]
  },
  {
   "cell_type": "markdown",
   "id": "6a73c10e",
   "metadata": {},
   "source": [
    "## What properties should House Rocket buy and for which price?"
   ]
  },
  {
   "cell_type": "code",
   "execution_count": 52,
   "id": "6c9245cc",
   "metadata": {
    "ExecuteTime": {
     "end_time": "2021-10-27T09:12:52.763259Z",
     "start_time": "2021-10-27T09:12:52.685810Z"
    }
   },
   "outputs": [
    {
     "data": {
      "text/html": [
       "<div>\n",
       "<style scoped>\n",
       "    .dataframe tbody tr th:only-of-type {\n",
       "        vertical-align: middle;\n",
       "    }\n",
       "\n",
       "    .dataframe tbody tr th {\n",
       "        vertical-align: top;\n",
       "    }\n",
       "\n",
       "    .dataframe thead th {\n",
       "        text-align: right;\n",
       "    }\n",
       "</style>\n",
       "<table border=\"1\" class=\"dataframe\">\n",
       "  <thead>\n",
       "    <tr style=\"text-align: right;\">\n",
       "      <th></th>\n",
       "      <th>zipcode</th>\n",
       "      <th>median_price</th>\n",
       "    </tr>\n",
       "  </thead>\n",
       "  <tbody>\n",
       "    <tr>\n",
       "      <th>0</th>\n",
       "      <td>98002</td>\n",
       "      <td>235000.00</td>\n",
       "    </tr>\n",
       "    <tr>\n",
       "      <th>1</th>\n",
       "      <td>98168</td>\n",
       "      <td>237000.00</td>\n",
       "    </tr>\n",
       "    <tr>\n",
       "      <th>2</th>\n",
       "      <td>98032</td>\n",
       "      <td>250000.00</td>\n",
       "    </tr>\n",
       "    <tr>\n",
       "      <th>3</th>\n",
       "      <td>98001</td>\n",
       "      <td>260000.00</td>\n",
       "    </tr>\n",
       "    <tr>\n",
       "      <th>4</th>\n",
       "      <td>98188</td>\n",
       "      <td>265000.00</td>\n",
       "    </tr>\n",
       "    <tr>\n",
       "      <th>...</th>\n",
       "      <td>...</td>\n",
       "      <td>...</td>\n",
       "    </tr>\n",
       "    <tr>\n",
       "      <th>65</th>\n",
       "      <td>98005</td>\n",
       "      <td>765475.00</td>\n",
       "    </tr>\n",
       "    <tr>\n",
       "      <th>66</th>\n",
       "      <td>98112</td>\n",
       "      <td>917500.00</td>\n",
       "    </tr>\n",
       "    <tr>\n",
       "      <th>67</th>\n",
       "      <td>98040</td>\n",
       "      <td>993750.00</td>\n",
       "    </tr>\n",
       "    <tr>\n",
       "      <th>68</th>\n",
       "      <td>98004</td>\n",
       "      <td>1150000.00</td>\n",
       "    </tr>\n",
       "    <tr>\n",
       "      <th>69</th>\n",
       "      <td>98039</td>\n",
       "      <td>1905000.00</td>\n",
       "    </tr>\n",
       "  </tbody>\n",
       "</table>\n",
       "<p>70 rows × 2 columns</p>\n",
       "</div>"
      ],
      "text/plain": [
       "    zipcode  median_price\n",
       "0     98002     235000.00\n",
       "1     98168     237000.00\n",
       "2     98032     250000.00\n",
       "3     98001     260000.00\n",
       "4     98188     265000.00\n",
       "..      ...           ...\n",
       "65    98005     765475.00\n",
       "66    98112     917500.00\n",
       "67    98040     993750.00\n",
       "68    98004    1150000.00\n",
       "69    98039    1905000.00\n",
       "\n",
       "[70 rows x 2 columns]"
      ]
     },
     "execution_count": 52,
     "metadata": {},
     "output_type": "execute_result"
    }
   ],
   "source": [
    "df = data[['price', 'zipcode']].groupby('zipcode').median().sort_values(by='price').reset_index()\n",
    "df.rename(columns={'price': 'median_price'}, inplace=True)\n",
    "df"
   ]
  },
  {
   "cell_type": "code",
   "execution_count": 53,
   "id": "5b820816",
   "metadata": {
    "ExecuteTime": {
     "end_time": "2021-10-27T09:13:03.548755Z",
     "start_time": "2021-10-27T09:13:03.419835Z"
    }
   },
   "outputs": [],
   "source": [
    "data = pd.merge(data, df, how='inner')"
   ]
  },
  {
   "cell_type": "code",
   "execution_count": 54,
   "id": "a93b86f3",
   "metadata": {
    "ExecuteTime": {
     "end_time": "2021-10-27T09:13:09.627718Z",
     "start_time": "2021-10-27T09:13:09.567753Z"
    }
   },
   "outputs": [
    {
     "data": {
      "text/html": [
       "<div>\n",
       "<style scoped>\n",
       "    .dataframe tbody tr th:only-of-type {\n",
       "        vertical-align: middle;\n",
       "    }\n",
       "\n",
       "    .dataframe tbody tr th {\n",
       "        vertical-align: top;\n",
       "    }\n",
       "\n",
       "    .dataframe thead th {\n",
       "        text-align: right;\n",
       "    }\n",
       "</style>\n",
       "<table border=\"1\" class=\"dataframe\">\n",
       "  <thead>\n",
       "    <tr style=\"text-align: right;\">\n",
       "      <th></th>\n",
       "      <th>id</th>\n",
       "      <th>date</th>\n",
       "      <th>price</th>\n",
       "      <th>bedrooms</th>\n",
       "      <th>bathrooms</th>\n",
       "      <th>sqft_living</th>\n",
       "      <th>sqft_lot</th>\n",
       "      <th>floors</th>\n",
       "      <th>waterfront</th>\n",
       "      <th>view</th>\n",
       "      <th>...</th>\n",
       "      <th>is_waterfront</th>\n",
       "      <th>house_age</th>\n",
       "      <th>basement</th>\n",
       "      <th>renovated</th>\n",
       "      <th>standard</th>\n",
       "      <th>day</th>\n",
       "      <th>month</th>\n",
       "      <th>year</th>\n",
       "      <th>seasons</th>\n",
       "      <th>median_price</th>\n",
       "    </tr>\n",
       "  </thead>\n",
       "  <tbody>\n",
       "    <tr>\n",
       "      <th>0</th>\n",
       "      <td>7129300520</td>\n",
       "      <td>2014-10-13</td>\n",
       "      <td>221900.00</td>\n",
       "      <td>3</td>\n",
       "      <td>1.00</td>\n",
       "      <td>1180</td>\n",
       "      <td>5650</td>\n",
       "      <td>1.00</td>\n",
       "      <td>0</td>\n",
       "      <td>0</td>\n",
       "      <td>...</td>\n",
       "      <td>no</td>\n",
       "      <td>new_property</td>\n",
       "      <td>no</td>\n",
       "      <td>no</td>\n",
       "      <td>low_standard</td>\n",
       "      <td>13</td>\n",
       "      <td>10</td>\n",
       "      <td>2014</td>\n",
       "      <td>autumn</td>\n",
       "      <td>279500.00</td>\n",
       "    </tr>\n",
       "    <tr>\n",
       "      <th>1</th>\n",
       "      <td>4060000240</td>\n",
       "      <td>2014-06-23</td>\n",
       "      <td>205425.00</td>\n",
       "      <td>2</td>\n",
       "      <td>1.00</td>\n",
       "      <td>880</td>\n",
       "      <td>6780</td>\n",
       "      <td>1.00</td>\n",
       "      <td>0</td>\n",
       "      <td>0</td>\n",
       "      <td>...</td>\n",
       "      <td>no</td>\n",
       "      <td>old_property</td>\n",
       "      <td>no</td>\n",
       "      <td>no</td>\n",
       "      <td>low_standard</td>\n",
       "      <td>23</td>\n",
       "      <td>6</td>\n",
       "      <td>2014</td>\n",
       "      <td>summer</td>\n",
       "      <td>279500.00</td>\n",
       "    </tr>\n",
       "    <tr>\n",
       "      <th>2</th>\n",
       "      <td>4058801670</td>\n",
       "      <td>2014-07-17</td>\n",
       "      <td>445000.00</td>\n",
       "      <td>3</td>\n",
       "      <td>2.25</td>\n",
       "      <td>2100</td>\n",
       "      <td>8201</td>\n",
       "      <td>1.00</td>\n",
       "      <td>0</td>\n",
       "      <td>2</td>\n",
       "      <td>...</td>\n",
       "      <td>no</td>\n",
       "      <td>new_property</td>\n",
       "      <td>yes</td>\n",
       "      <td>no</td>\n",
       "      <td>low_standard</td>\n",
       "      <td>17</td>\n",
       "      <td>7</td>\n",
       "      <td>2014</td>\n",
       "      <td>summer</td>\n",
       "      <td>279500.00</td>\n",
       "    </tr>\n",
       "    <tr>\n",
       "      <th>3</th>\n",
       "      <td>2976800796</td>\n",
       "      <td>2014-09-25</td>\n",
       "      <td>236000.00</td>\n",
       "      <td>3</td>\n",
       "      <td>1.00</td>\n",
       "      <td>1300</td>\n",
       "      <td>5898</td>\n",
       "      <td>1.00</td>\n",
       "      <td>0</td>\n",
       "      <td>0</td>\n",
       "      <td>...</td>\n",
       "      <td>no</td>\n",
       "      <td>new_property</td>\n",
       "      <td>no</td>\n",
       "      <td>no</td>\n",
       "      <td>low_standard</td>\n",
       "      <td>25</td>\n",
       "      <td>9</td>\n",
       "      <td>2014</td>\n",
       "      <td>autumn</td>\n",
       "      <td>279500.00</td>\n",
       "    </tr>\n",
       "    <tr>\n",
       "      <th>4</th>\n",
       "      <td>6874200960</td>\n",
       "      <td>2015-02-27</td>\n",
       "      <td>170000.00</td>\n",
       "      <td>2</td>\n",
       "      <td>1.00</td>\n",
       "      <td>860</td>\n",
       "      <td>5265</td>\n",
       "      <td>1.00</td>\n",
       "      <td>0</td>\n",
       "      <td>0</td>\n",
       "      <td>...</td>\n",
       "      <td>no</td>\n",
       "      <td>old_property</td>\n",
       "      <td>no</td>\n",
       "      <td>no</td>\n",
       "      <td>low_standard</td>\n",
       "      <td>27</td>\n",
       "      <td>2</td>\n",
       "      <td>2015</td>\n",
       "      <td>winter</td>\n",
       "      <td>279500.00</td>\n",
       "    </tr>\n",
       "  </tbody>\n",
       "</table>\n",
       "<p>5 rows × 34 columns</p>\n",
       "</div>"
      ],
      "text/plain": [
       "           id       date     price  bedrooms  bathrooms  sqft_living  \\\n",
       "0  7129300520 2014-10-13 221900.00         3       1.00         1180   \n",
       "1  4060000240 2014-06-23 205425.00         2       1.00          880   \n",
       "2  4058801670 2014-07-17 445000.00         3       2.25         2100   \n",
       "3  2976800796 2014-09-25 236000.00         3       1.00         1300   \n",
       "4  6874200960 2015-02-27 170000.00         2       1.00          860   \n",
       "\n",
       "   sqft_lot  floors  waterfront  view  ...  is_waterfront     house_age  \\\n",
       "0      5650    1.00           0     0  ...             no  new_property   \n",
       "1      6780    1.00           0     0  ...             no  old_property   \n",
       "2      8201    1.00           0     2  ...             no  new_property   \n",
       "3      5898    1.00           0     0  ...             no  new_property   \n",
       "4      5265    1.00           0     0  ...             no  old_property   \n",
       "\n",
       "   basement  renovated      standard  day  month  year  seasons  median_price  \n",
       "0        no         no  low_standard   13     10  2014   autumn     279500.00  \n",
       "1        no         no  low_standard   23      6  2014   summer     279500.00  \n",
       "2       yes         no  low_standard   17      7  2014   summer     279500.00  \n",
       "3        no         no  low_standard   25      9  2014   autumn     279500.00  \n",
       "4        no         no  low_standard   27      2  2015   winter     279500.00  \n",
       "\n",
       "[5 rows x 34 columns]"
      ]
     },
     "execution_count": 54,
     "metadata": {},
     "output_type": "execute_result"
    }
   ],
   "source": [
    "data.head()"
   ]
  },
  {
   "cell_type": "code",
   "execution_count": 55,
   "id": "b0bf55cd",
   "metadata": {
    "ExecuteTime": {
     "end_time": "2021-10-27T09:13:24.514101Z",
     "start_time": "2021-10-27T09:13:23.521827Z"
    }
   },
   "outputs": [],
   "source": [
    "data['buy'] = data[['price', 'median_price', 'condition']].apply(lambda x: 'yes' if (x['price'] < x['median_price']) & (x['condition'] >= 3) else 'no', axis=1)"
   ]
  },
  {
   "cell_type": "code",
   "execution_count": 56,
   "id": "f7d877a8",
   "metadata": {
    "ExecuteTime": {
     "end_time": "2021-10-27T09:13:30.229002Z",
     "start_time": "2021-10-27T09:13:30.213384Z"
    }
   },
   "outputs": [
    {
     "data": {
      "text/plain": [
       "Index(['id', 'date', 'price', 'bedrooms', 'bathrooms', 'sqft_living',\n",
       "       'sqft_lot', 'floors', 'waterfront', 'view', 'condition', 'grade',\n",
       "       'sqft_above', 'sqft_basement', 'yr_built', 'yr_renovated', 'zipcode',\n",
       "       'lat', 'long', 'sqft_living15', 'sqft_lot15', 'condition_type',\n",
       "       'dormitory_type', 'view_type', 'is_waterfront', 'house_age', 'basement',\n",
       "       'renovated', 'standard', 'day', 'month', 'year', 'seasons',\n",
       "       'median_price', 'buy'],\n",
       "      dtype='object')"
      ]
     },
     "execution_count": 56,
     "metadata": {},
     "output_type": "execute_result"
    }
   ],
   "source": [
    "data.columns"
   ]
  },
  {
   "cell_type": "code",
   "execution_count": 72,
   "id": "591ea27e",
   "metadata": {
    "ExecuteTime": {
     "end_time": "2021-10-27T09:22:42.405296Z",
     "start_time": "2021-10-27T09:22:42.310353Z"
    },
    "scrolled": false
   },
   "outputs": [
    {
     "data": {
      "text/html": [
       "<div>\n",
       "<style scoped>\n",
       "    .dataframe tbody tr th:only-of-type {\n",
       "        vertical-align: middle;\n",
       "    }\n",
       "\n",
       "    .dataframe tbody tr th {\n",
       "        vertical-align: top;\n",
       "    }\n",
       "\n",
       "    .dataframe thead th {\n",
       "        text-align: right;\n",
       "    }\n",
       "</style>\n",
       "<table border=\"1\" class=\"dataframe\">\n",
       "  <thead>\n",
       "    <tr style=\"text-align: right;\">\n",
       "      <th></th>\n",
       "      <th>id</th>\n",
       "      <th>zipcode</th>\n",
       "      <th>lat</th>\n",
       "      <th>long</th>\n",
       "      <th>yr_built</th>\n",
       "      <th>yr_renovated</th>\n",
       "      <th>condition</th>\n",
       "      <th>condition_type</th>\n",
       "      <th>view_type</th>\n",
       "      <th>dormitory_type</th>\n",
       "      <th>bedrooms</th>\n",
       "      <th>bathrooms</th>\n",
       "      <th>sqft_living</th>\n",
       "      <th>sqft_lot</th>\n",
       "      <th>floors</th>\n",
       "      <th>standard</th>\n",
       "      <th>seasons</th>\n",
       "      <th>price</th>\n",
       "      <th>median_price</th>\n",
       "      <th>buy</th>\n",
       "    </tr>\n",
       "  </thead>\n",
       "  <tbody>\n",
       "    <tr>\n",
       "      <th>0</th>\n",
       "      <td>3421079032</td>\n",
       "      <td>98022</td>\n",
       "      <td>47.26</td>\n",
       "      <td>-121.91</td>\n",
       "      <td>1966</td>\n",
       "      <td>0</td>\n",
       "      <td>3</td>\n",
       "      <td>regular</td>\n",
       "      <td>terrible</td>\n",
       "      <td>studio</td>\n",
       "      <td>1</td>\n",
       "      <td>0.00</td>\n",
       "      <td>670</td>\n",
       "      <td>43377</td>\n",
       "      <td>1.00</td>\n",
       "      <td>low_standard</td>\n",
       "      <td>winter</td>\n",
       "      <td>75000.00</td>\n",
       "      <td>279500.00</td>\n",
       "      <td>yes</td>\n",
       "    </tr>\n",
       "    <tr>\n",
       "      <th>1</th>\n",
       "      <td>7999600180</td>\n",
       "      <td>98168</td>\n",
       "      <td>47.47</td>\n",
       "      <td>-122.27</td>\n",
       "      <td>1918</td>\n",
       "      <td>0</td>\n",
       "      <td>3</td>\n",
       "      <td>regular</td>\n",
       "      <td>terrible</td>\n",
       "      <td>apartment</td>\n",
       "      <td>2</td>\n",
       "      <td>1.00</td>\n",
       "      <td>900</td>\n",
       "      <td>8580</td>\n",
       "      <td>1.00</td>\n",
       "      <td>low_standard</td>\n",
       "      <td>spring</td>\n",
       "      <td>83000.00</td>\n",
       "      <td>237000.00</td>\n",
       "      <td>yes</td>\n",
       "    </tr>\n",
       "    <tr>\n",
       "      <th>2</th>\n",
       "      <td>1523049188</td>\n",
       "      <td>98168</td>\n",
       "      <td>47.48</td>\n",
       "      <td>-122.27</td>\n",
       "      <td>1949</td>\n",
       "      <td>0</td>\n",
       "      <td>3</td>\n",
       "      <td>regular</td>\n",
       "      <td>terrible</td>\n",
       "      <td>apartment</td>\n",
       "      <td>2</td>\n",
       "      <td>1.00</td>\n",
       "      <td>700</td>\n",
       "      <td>20130</td>\n",
       "      <td>1.00</td>\n",
       "      <td>low_standard</td>\n",
       "      <td>spring</td>\n",
       "      <td>84000.00</td>\n",
       "      <td>237000.00</td>\n",
       "      <td>yes</td>\n",
       "    </tr>\n",
       "    <tr>\n",
       "      <th>3</th>\n",
       "      <td>1322049150</td>\n",
       "      <td>98032</td>\n",
       "      <td>47.39</td>\n",
       "      <td>-122.24</td>\n",
       "      <td>1947</td>\n",
       "      <td>0</td>\n",
       "      <td>3</td>\n",
       "      <td>regular</td>\n",
       "      <td>terrible</td>\n",
       "      <td>apartment</td>\n",
       "      <td>2</td>\n",
       "      <td>1.00</td>\n",
       "      <td>910</td>\n",
       "      <td>9753</td>\n",
       "      <td>1.00</td>\n",
       "      <td>low_standard</td>\n",
       "      <td>spring</td>\n",
       "      <td>85000.00</td>\n",
       "      <td>250000.00</td>\n",
       "      <td>yes</td>\n",
       "    </tr>\n",
       "    <tr>\n",
       "      <th>4</th>\n",
       "      <td>9320900420</td>\n",
       "      <td>98023</td>\n",
       "      <td>47.30</td>\n",
       "      <td>-122.36</td>\n",
       "      <td>1969</td>\n",
       "      <td>0</td>\n",
       "      <td>4</td>\n",
       "      <td>good</td>\n",
       "      <td>terrible</td>\n",
       "      <td>apartment</td>\n",
       "      <td>3</td>\n",
       "      <td>1.00</td>\n",
       "      <td>900</td>\n",
       "      <td>4750</td>\n",
       "      <td>1.00</td>\n",
       "      <td>low_standard</td>\n",
       "      <td>autumn</td>\n",
       "      <td>89000.00</td>\n",
       "      <td>269000.00</td>\n",
       "      <td>yes</td>\n",
       "    </tr>\n",
       "    <tr>\n",
       "      <th>...</th>\n",
       "      <td>...</td>\n",
       "      <td>...</td>\n",
       "      <td>...</td>\n",
       "      <td>...</td>\n",
       "      <td>...</td>\n",
       "      <td>...</td>\n",
       "      <td>...</td>\n",
       "      <td>...</td>\n",
       "      <td>...</td>\n",
       "      <td>...</td>\n",
       "      <td>...</td>\n",
       "      <td>...</td>\n",
       "      <td>...</td>\n",
       "      <td>...</td>\n",
       "      <td>...</td>\n",
       "      <td>...</td>\n",
       "      <td>...</td>\n",
       "      <td>...</td>\n",
       "      <td>...</td>\n",
       "      <td>...</td>\n",
       "    </tr>\n",
       "    <tr>\n",
       "      <th>10500</th>\n",
       "      <td>2525049266</td>\n",
       "      <td>98039</td>\n",
       "      <td>47.62</td>\n",
       "      <td>-122.23</td>\n",
       "      <td>1988</td>\n",
       "      <td>0</td>\n",
       "      <td>3</td>\n",
       "      <td>regular</td>\n",
       "      <td>terrible</td>\n",
       "      <td>apartment</td>\n",
       "      <td>3</td>\n",
       "      <td>2.25</td>\n",
       "      <td>3060</td>\n",
       "      <td>16000</td>\n",
       "      <td>2.00</td>\n",
       "      <td>high_standard</td>\n",
       "      <td>summer</td>\n",
       "      <td>1762000.00</td>\n",
       "      <td>1905000.00</td>\n",
       "      <td>yes</td>\n",
       "    </tr>\n",
       "    <tr>\n",
       "      <th>10501</th>\n",
       "      <td>5425700205</td>\n",
       "      <td>98039</td>\n",
       "      <td>47.63</td>\n",
       "      <td>-122.23</td>\n",
       "      <td>1962</td>\n",
       "      <td>1994</td>\n",
       "      <td>3</td>\n",
       "      <td>regular</td>\n",
       "      <td>terrible</td>\n",
       "      <td>apartment</td>\n",
       "      <td>4</td>\n",
       "      <td>3.50</td>\n",
       "      <td>4460</td>\n",
       "      <td>16953</td>\n",
       "      <td>1.00</td>\n",
       "      <td>high_standard</td>\n",
       "      <td>spring</td>\n",
       "      <td>1800000.00</td>\n",
       "      <td>1905000.00</td>\n",
       "      <td>yes</td>\n",
       "    </tr>\n",
       "    <tr>\n",
       "      <th>10502</th>\n",
       "      <td>3262300818</td>\n",
       "      <td>98039</td>\n",
       "      <td>47.64</td>\n",
       "      <td>-122.24</td>\n",
       "      <td>2006</td>\n",
       "      <td>0</td>\n",
       "      <td>3</td>\n",
       "      <td>regular</td>\n",
       "      <td>terrible</td>\n",
       "      <td>apartment</td>\n",
       "      <td>4</td>\n",
       "      <td>3.75</td>\n",
       "      <td>3790</td>\n",
       "      <td>8797</td>\n",
       "      <td>2.00</td>\n",
       "      <td>high_standard</td>\n",
       "      <td>winter</td>\n",
       "      <td>1865000.00</td>\n",
       "      <td>1905000.00</td>\n",
       "      <td>yes</td>\n",
       "    </tr>\n",
       "    <tr>\n",
       "      <th>10503</th>\n",
       "      <td>6447300225</td>\n",
       "      <td>98039</td>\n",
       "      <td>47.61</td>\n",
       "      <td>-122.23</td>\n",
       "      <td>1949</td>\n",
       "      <td>0</td>\n",
       "      <td>4</td>\n",
       "      <td>good</td>\n",
       "      <td>bad</td>\n",
       "      <td>apartment</td>\n",
       "      <td>3</td>\n",
       "      <td>2.75</td>\n",
       "      <td>2620</td>\n",
       "      <td>17919</td>\n",
       "      <td>1.00</td>\n",
       "      <td>high_standard</td>\n",
       "      <td>autumn</td>\n",
       "      <td>1880000.00</td>\n",
       "      <td>1905000.00</td>\n",
       "      <td>yes</td>\n",
       "    </tr>\n",
       "    <tr>\n",
       "      <th>10504</th>\n",
       "      <td>2470200020</td>\n",
       "      <td>98039</td>\n",
       "      <td>47.62</td>\n",
       "      <td>-122.24</td>\n",
       "      <td>1968</td>\n",
       "      <td>0</td>\n",
       "      <td>4</td>\n",
       "      <td>good</td>\n",
       "      <td>terrible</td>\n",
       "      <td>apartment</td>\n",
       "      <td>4</td>\n",
       "      <td>2.75</td>\n",
       "      <td>3260</td>\n",
       "      <td>19542</td>\n",
       "      <td>1.00</td>\n",
       "      <td>high_standard</td>\n",
       "      <td>spring</td>\n",
       "      <td>1880000.00</td>\n",
       "      <td>1905000.00</td>\n",
       "      <td>yes</td>\n",
       "    </tr>\n",
       "  </tbody>\n",
       "</table>\n",
       "<p>10505 rows × 20 columns</p>\n",
       "</div>"
      ],
      "text/plain": [
       "               id  zipcode   lat    long  yr_built  yr_renovated  condition  \\\n",
       "0      3421079032    98022 47.26 -121.91      1966             0          3   \n",
       "1      7999600180    98168 47.47 -122.27      1918             0          3   \n",
       "2      1523049188    98168 47.48 -122.27      1949             0          3   \n",
       "3      1322049150    98032 47.39 -122.24      1947             0          3   \n",
       "4      9320900420    98023 47.30 -122.36      1969             0          4   \n",
       "...           ...      ...   ...     ...       ...           ...        ...   \n",
       "10500  2525049266    98039 47.62 -122.23      1988             0          3   \n",
       "10501  5425700205    98039 47.63 -122.23      1962          1994          3   \n",
       "10502  3262300818    98039 47.64 -122.24      2006             0          3   \n",
       "10503  6447300225    98039 47.61 -122.23      1949             0          4   \n",
       "10504  2470200020    98039 47.62 -122.24      1968             0          4   \n",
       "\n",
       "      condition_type view_type dormitory_type  bedrooms  bathrooms  \\\n",
       "0            regular  terrible         studio         1       0.00   \n",
       "1            regular  terrible      apartment         2       1.00   \n",
       "2            regular  terrible      apartment         2       1.00   \n",
       "3            regular  terrible      apartment         2       1.00   \n",
       "4               good  terrible      apartment         3       1.00   \n",
       "...              ...       ...            ...       ...        ...   \n",
       "10500        regular  terrible      apartment         3       2.25   \n",
       "10501        regular  terrible      apartment         4       3.50   \n",
       "10502        regular  terrible      apartment         4       3.75   \n",
       "10503           good       bad      apartment         3       2.75   \n",
       "10504           good  terrible      apartment         4       2.75   \n",
       "\n",
       "       sqft_living  sqft_lot  floors       standard seasons      price  \\\n",
       "0              670     43377    1.00   low_standard  winter   75000.00   \n",
       "1              900      8580    1.00   low_standard  spring   83000.00   \n",
       "2              700     20130    1.00   low_standard  spring   84000.00   \n",
       "3              910      9753    1.00   low_standard  spring   85000.00   \n",
       "4              900      4750    1.00   low_standard  autumn   89000.00   \n",
       "...            ...       ...     ...            ...     ...        ...   \n",
       "10500         3060     16000    2.00  high_standard  summer 1762000.00   \n",
       "10501         4460     16953    1.00  high_standard  spring 1800000.00   \n",
       "10502         3790      8797    2.00  high_standard  winter 1865000.00   \n",
       "10503         2620     17919    1.00  high_standard  autumn 1880000.00   \n",
       "10504         3260     19542    1.00  high_standard  spring 1880000.00   \n",
       "\n",
       "       median_price  buy  \n",
       "0         279500.00  yes  \n",
       "1         237000.00  yes  \n",
       "2         237000.00  yes  \n",
       "3         250000.00  yes  \n",
       "4         269000.00  yes  \n",
       "...             ...  ...  \n",
       "10500    1905000.00  yes  \n",
       "10501    1905000.00  yes  \n",
       "10502    1905000.00  yes  \n",
       "10503    1905000.00  yes  \n",
       "10504    1905000.00  yes  \n",
       "\n",
       "[10505 rows x 20 columns]"
      ]
     },
     "execution_count": 72,
     "metadata": {},
     "output_type": "execute_result"
    }
   ],
   "source": [
    "df_buy_opportunities = data.loc[data['buy'] == 'yes', ['id', 'zipcode', 'lat', 'long', 'yr_built', 'yr_renovated',\n",
    "                                                      'condition', 'condition_type', 'view_type',\n",
    "                                                      'dormitory_type', 'bedrooms', 'bathrooms','sqft_living',\n",
    "                                                      'sqft_lot', 'floors', 'standard', 'seasons', 'price', 'median_price', 'buy']].sort_values(by=['price', 'condition'], ascending=[True, False]).reset_index(drop=True)\n",
    "df_buy_opportunities"
   ]
  },
  {
   "cell_type": "code",
   "execution_count": 73,
   "id": "c74fd88c",
   "metadata": {
    "ExecuteTime": {
     "end_time": "2021-10-27T09:22:50.394716Z",
     "start_time": "2021-10-27T09:22:50.369716Z"
    }
   },
   "outputs": [
    {
     "name": "stdout",
     "output_type": "stream",
     "text": [
      "4079586744.0\n",
      "5124304367.5\n",
      "1044717623.5\n"
     ]
    }
   ],
   "source": [
    "print(df_buy_opportunities['price'].sum())\n",
    "print(df_buy_opportunities['median_price'].sum())\n",
    "print(df_buy_opportunities['median_price'].sum() - df_buy_oppotunities['price'].sum())"
   ]
  },
  {
   "cell_type": "markdown",
   "id": "3e1e11f8",
   "metadata": {},
   "source": [
    "## Once the property is purchased, what is the best moment to sell it and for what price?"
   ]
  },
  {
   "cell_type": "code",
   "execution_count": 74,
   "id": "e312a503",
   "metadata": {
    "ExecuteTime": {
     "end_time": "2021-10-27T09:22:57.577467Z",
     "start_time": "2021-10-27T09:22:57.537498Z"
    }
   },
   "outputs": [
    {
     "data": {
      "text/html": [
       "<div>\n",
       "<style scoped>\n",
       "    .dataframe tbody tr th:only-of-type {\n",
       "        vertical-align: middle;\n",
       "    }\n",
       "\n",
       "    .dataframe tbody tr th {\n",
       "        vertical-align: top;\n",
       "    }\n",
       "\n",
       "    .dataframe thead th {\n",
       "        text-align: right;\n",
       "    }\n",
       "</style>\n",
       "<table border=\"1\" class=\"dataframe\">\n",
       "  <thead>\n",
       "    <tr style=\"text-align: right;\">\n",
       "      <th></th>\n",
       "      <th>zipcode</th>\n",
       "      <th>seasons</th>\n",
       "      <th>median_seasons_price</th>\n",
       "    </tr>\n",
       "  </thead>\n",
       "  <tbody>\n",
       "    <tr>\n",
       "      <th>0</th>\n",
       "      <td>98001</td>\n",
       "      <td>autumn</td>\n",
       "      <td>217500.00</td>\n",
       "    </tr>\n",
       "    <tr>\n",
       "      <th>1</th>\n",
       "      <td>98001</td>\n",
       "      <td>spring</td>\n",
       "      <td>210500.00</td>\n",
       "    </tr>\n",
       "    <tr>\n",
       "      <th>2</th>\n",
       "      <td>98001</td>\n",
       "      <td>summer</td>\n",
       "      <td>213300.00</td>\n",
       "    </tr>\n",
       "    <tr>\n",
       "      <th>3</th>\n",
       "      <td>98001</td>\n",
       "      <td>winter</td>\n",
       "      <td>228250.00</td>\n",
       "    </tr>\n",
       "    <tr>\n",
       "      <th>4</th>\n",
       "      <td>98002</td>\n",
       "      <td>autumn</td>\n",
       "      <td>195250.00</td>\n",
       "    </tr>\n",
       "  </tbody>\n",
       "</table>\n",
       "</div>"
      ],
      "text/plain": [
       "   zipcode seasons  median_seasons_price\n",
       "0    98001  autumn             217500.00\n",
       "1    98001  spring             210500.00\n",
       "2    98001  summer             213300.00\n",
       "3    98001  winter             228250.00\n",
       "4    98002  autumn             195250.00"
      ]
     },
     "execution_count": 74,
     "metadata": {},
     "output_type": "execute_result"
    }
   ],
   "source": [
    "df2_teste = df_buy_opportunities[['zipcode', 'seasons', 'price']].groupby(['zipcode', 'seasons']).median().reset_index()\n",
    "df2_teste.rename(columns={'price':'median_seasons_price'}, inplace=True)\n",
    "df2_teste.head()"
   ]
  },
  {
   "cell_type": "code",
   "execution_count": 77,
   "id": "71c064b9",
   "metadata": {
    "ExecuteTime": {
     "end_time": "2021-10-27T09:23:30.887130Z",
     "start_time": "2021-10-27T09:23:30.815201Z"
    }
   },
   "outputs": [
    {
     "data": {
      "text/html": [
       "<div>\n",
       "<style scoped>\n",
       "    .dataframe tbody tr th:only-of-type {\n",
       "        vertical-align: middle;\n",
       "    }\n",
       "\n",
       "    .dataframe tbody tr th {\n",
       "        vertical-align: top;\n",
       "    }\n",
       "\n",
       "    .dataframe thead th {\n",
       "        text-align: right;\n",
       "    }\n",
       "</style>\n",
       "<table border=\"1\" class=\"dataframe\">\n",
       "  <thead>\n",
       "    <tr style=\"text-align: right;\">\n",
       "      <th></th>\n",
       "      <th>id</th>\n",
       "      <th>zipcode</th>\n",
       "      <th>lat</th>\n",
       "      <th>long</th>\n",
       "      <th>yr_built</th>\n",
       "      <th>yr_renovated</th>\n",
       "      <th>condition</th>\n",
       "      <th>condition_type</th>\n",
       "      <th>view_type</th>\n",
       "      <th>dormitory_type</th>\n",
       "      <th>...</th>\n",
       "      <th>bathrooms</th>\n",
       "      <th>sqft_living</th>\n",
       "      <th>sqft_lot</th>\n",
       "      <th>floors</th>\n",
       "      <th>standard</th>\n",
       "      <th>seasons</th>\n",
       "      <th>price</th>\n",
       "      <th>median_price</th>\n",
       "      <th>buy</th>\n",
       "      <th>median_seasons_price</th>\n",
       "    </tr>\n",
       "  </thead>\n",
       "  <tbody>\n",
       "    <tr>\n",
       "      <th>0</th>\n",
       "      <td>3421079032</td>\n",
       "      <td>98022</td>\n",
       "      <td>47.26</td>\n",
       "      <td>-121.91</td>\n",
       "      <td>1966</td>\n",
       "      <td>0</td>\n",
       "      <td>3</td>\n",
       "      <td>regular</td>\n",
       "      <td>terrible</td>\n",
       "      <td>studio</td>\n",
       "      <td>...</td>\n",
       "      <td>0.00</td>\n",
       "      <td>670</td>\n",
       "      <td>43377</td>\n",
       "      <td>1.00</td>\n",
       "      <td>low_standard</td>\n",
       "      <td>winter</td>\n",
       "      <td>75000.00</td>\n",
       "      <td>279500.00</td>\n",
       "      <td>yes</td>\n",
       "      <td>224975.00</td>\n",
       "    </tr>\n",
       "    <tr>\n",
       "      <th>1</th>\n",
       "      <td>1917300025</td>\n",
       "      <td>98022</td>\n",
       "      <td>47.21</td>\n",
       "      <td>-121.98</td>\n",
       "      <td>1945</td>\n",
       "      <td>0</td>\n",
       "      <td>3</td>\n",
       "      <td>regular</td>\n",
       "      <td>terrible</td>\n",
       "      <td>apartment</td>\n",
       "      <td>...</td>\n",
       "      <td>1.00</td>\n",
       "      <td>860</td>\n",
       "      <td>6000</td>\n",
       "      <td>1.00</td>\n",
       "      <td>low_standard</td>\n",
       "      <td>winter</td>\n",
       "      <td>122000.00</td>\n",
       "      <td>279500.00</td>\n",
       "      <td>yes</td>\n",
       "      <td>224975.00</td>\n",
       "    </tr>\n",
       "    <tr>\n",
       "      <th>2</th>\n",
       "      <td>7575500040</td>\n",
       "      <td>98022</td>\n",
       "      <td>47.20</td>\n",
       "      <td>-122.00</td>\n",
       "      <td>1990</td>\n",
       "      <td>0</td>\n",
       "      <td>4</td>\n",
       "      <td>good</td>\n",
       "      <td>terrible</td>\n",
       "      <td>apartment</td>\n",
       "      <td>...</td>\n",
       "      <td>1.00</td>\n",
       "      <td>1010</td>\n",
       "      <td>8863</td>\n",
       "      <td>1.00</td>\n",
       "      <td>low_standard</td>\n",
       "      <td>winter</td>\n",
       "      <td>180000.00</td>\n",
       "      <td>279500.00</td>\n",
       "      <td>yes</td>\n",
       "      <td>224975.00</td>\n",
       "    </tr>\n",
       "    <tr>\n",
       "      <th>3</th>\n",
       "      <td>1645000100</td>\n",
       "      <td>98022</td>\n",
       "      <td>47.21</td>\n",
       "      <td>-122.00</td>\n",
       "      <td>1964</td>\n",
       "      <td>0</td>\n",
       "      <td>4</td>\n",
       "      <td>good</td>\n",
       "      <td>terrible</td>\n",
       "      <td>apartment</td>\n",
       "      <td>...</td>\n",
       "      <td>1.50</td>\n",
       "      <td>1140</td>\n",
       "      <td>8500</td>\n",
       "      <td>1.00</td>\n",
       "      <td>low_standard</td>\n",
       "      <td>winter</td>\n",
       "      <td>188000.00</td>\n",
       "      <td>279500.00</td>\n",
       "      <td>yes</td>\n",
       "      <td>224975.00</td>\n",
       "    </tr>\n",
       "    <tr>\n",
       "      <th>4</th>\n",
       "      <td>5706500385</td>\n",
       "      <td>98022</td>\n",
       "      <td>47.21</td>\n",
       "      <td>-121.99</td>\n",
       "      <td>1941</td>\n",
       "      <td>0</td>\n",
       "      <td>4</td>\n",
       "      <td>good</td>\n",
       "      <td>terrible</td>\n",
       "      <td>apartment</td>\n",
       "      <td>...</td>\n",
       "      <td>1.00</td>\n",
       "      <td>1400</td>\n",
       "      <td>9600</td>\n",
       "      <td>1.50</td>\n",
       "      <td>low_standard</td>\n",
       "      <td>winter</td>\n",
       "      <td>200000.00</td>\n",
       "      <td>279500.00</td>\n",
       "      <td>yes</td>\n",
       "      <td>224975.00</td>\n",
       "    </tr>\n",
       "  </tbody>\n",
       "</table>\n",
       "<p>5 rows × 21 columns</p>\n",
       "</div>"
      ],
      "text/plain": [
       "           id  zipcode   lat    long  yr_built  yr_renovated  condition  \\\n",
       "0  3421079032    98022 47.26 -121.91      1966             0          3   \n",
       "1  1917300025    98022 47.21 -121.98      1945             0          3   \n",
       "2  7575500040    98022 47.20 -122.00      1990             0          4   \n",
       "3  1645000100    98022 47.21 -122.00      1964             0          4   \n",
       "4  5706500385    98022 47.21 -121.99      1941             0          4   \n",
       "\n",
       "  condition_type view_type dormitory_type  ...  bathrooms  sqft_living  \\\n",
       "0        regular  terrible         studio  ...       0.00          670   \n",
       "1        regular  terrible      apartment  ...       1.00          860   \n",
       "2           good  terrible      apartment  ...       1.00         1010   \n",
       "3           good  terrible      apartment  ...       1.50         1140   \n",
       "4           good  terrible      apartment  ...       1.00         1400   \n",
       "\n",
       "   sqft_lot  floors      standard seasons     price  median_price  buy  \\\n",
       "0     43377    1.00  low_standard  winter  75000.00     279500.00  yes   \n",
       "1      6000    1.00  low_standard  winter 122000.00     279500.00  yes   \n",
       "2      8863    1.00  low_standard  winter 180000.00     279500.00  yes   \n",
       "3      8500    1.00  low_standard  winter 188000.00     279500.00  yes   \n",
       "4      9600    1.50  low_standard  winter 200000.00     279500.00  yes   \n",
       "\n",
       "  median_seasons_price  \n",
       "0            224975.00  \n",
       "1            224975.00  \n",
       "2            224975.00  \n",
       "3            224975.00  \n",
       "4            224975.00  \n",
       "\n",
       "[5 rows x 21 columns]"
      ]
     },
     "execution_count": 77,
     "metadata": {},
     "output_type": "execute_result"
    }
   ],
   "source": [
    "df3 = pd.merge(df_buy_opportunities, df2_teste, how='inner', on=['zipcode', 'seasons'])\n",
    "df3.head()"
   ]
  },
  {
   "cell_type": "code",
   "execution_count": 78,
   "id": "50985693",
   "metadata": {
    "ExecuteTime": {
     "end_time": "2021-10-27T09:23:59.392420Z",
     "start_time": "2021-10-27T09:23:53.187171Z"
    }
   },
   "outputs": [],
   "source": [
    "# if the purchase price is greater than the region median + seasonality, the sale price will be equal\n",
    "#to the purchase price + 10%;\n",
    "\n",
    "#if the purchase price is less than the region median price + seasonality, the sale price will be equal\n",
    "#to the purchase price + 30%\n",
    "\n",
    "\n",
    "for i in range(len(df3)):\n",
    "    if df3.loc[i, 'price'] > df3.loc[i, 'median_seasons_price']:\n",
    "        df3.loc[i, 'sale_price'] = (df3.loc[i, 'price'] * 1.1)\n",
    "        \n",
    "    elif df3.loc[i, 'price'] < df3.loc[i, 'median_seasons_price']:\n",
    "        df3.loc[i, 'sale_price'] = df3.loc[i, 'price'] * 1.3"
   ]
  },
  {
   "cell_type": "code",
   "execution_count": 79,
   "id": "9ffa3e3d",
   "metadata": {
    "ExecuteTime": {
     "end_time": "2021-10-27T09:25:18.282194Z",
     "start_time": "2021-10-27T09:25:18.212238Z"
    },
    "scrolled": true
   },
   "outputs": [
    {
     "data": {
      "text/html": [
       "<div>\n",
       "<style scoped>\n",
       "    .dataframe tbody tr th:only-of-type {\n",
       "        vertical-align: middle;\n",
       "    }\n",
       "\n",
       "    .dataframe tbody tr th {\n",
       "        vertical-align: top;\n",
       "    }\n",
       "\n",
       "    .dataframe thead th {\n",
       "        text-align: right;\n",
       "    }\n",
       "</style>\n",
       "<table border=\"1\" class=\"dataframe\">\n",
       "  <thead>\n",
       "    <tr style=\"text-align: right;\">\n",
       "      <th></th>\n",
       "      <th>id</th>\n",
       "      <th>zipcode</th>\n",
       "      <th>lat</th>\n",
       "      <th>long</th>\n",
       "      <th>yr_built</th>\n",
       "      <th>yr_renovated</th>\n",
       "      <th>condition</th>\n",
       "      <th>condition_type</th>\n",
       "      <th>view_type</th>\n",
       "      <th>dormitory_type</th>\n",
       "      <th>...</th>\n",
       "      <th>sqft_living</th>\n",
       "      <th>sqft_lot</th>\n",
       "      <th>floors</th>\n",
       "      <th>standard</th>\n",
       "      <th>seasons</th>\n",
       "      <th>price</th>\n",
       "      <th>median_price</th>\n",
       "      <th>buy</th>\n",
       "      <th>median_seasons_price</th>\n",
       "      <th>sale_price</th>\n",
       "    </tr>\n",
       "  </thead>\n",
       "  <tbody>\n",
       "    <tr>\n",
       "      <th>0</th>\n",
       "      <td>3421079032</td>\n",
       "      <td>98022</td>\n",
       "      <td>47.26</td>\n",
       "      <td>-121.91</td>\n",
       "      <td>1966</td>\n",
       "      <td>0</td>\n",
       "      <td>3</td>\n",
       "      <td>regular</td>\n",
       "      <td>terrible</td>\n",
       "      <td>studio</td>\n",
       "      <td>...</td>\n",
       "      <td>670</td>\n",
       "      <td>43377</td>\n",
       "      <td>1.00</td>\n",
       "      <td>low_standard</td>\n",
       "      <td>winter</td>\n",
       "      <td>75000.00</td>\n",
       "      <td>279500.00</td>\n",
       "      <td>yes</td>\n",
       "      <td>224975.00</td>\n",
       "      <td>97500.00</td>\n",
       "    </tr>\n",
       "    <tr>\n",
       "      <th>1</th>\n",
       "      <td>1917300025</td>\n",
       "      <td>98022</td>\n",
       "      <td>47.21</td>\n",
       "      <td>-121.98</td>\n",
       "      <td>1945</td>\n",
       "      <td>0</td>\n",
       "      <td>3</td>\n",
       "      <td>regular</td>\n",
       "      <td>terrible</td>\n",
       "      <td>apartment</td>\n",
       "      <td>...</td>\n",
       "      <td>860</td>\n",
       "      <td>6000</td>\n",
       "      <td>1.00</td>\n",
       "      <td>low_standard</td>\n",
       "      <td>winter</td>\n",
       "      <td>122000.00</td>\n",
       "      <td>279500.00</td>\n",
       "      <td>yes</td>\n",
       "      <td>224975.00</td>\n",
       "      <td>158600.00</td>\n",
       "    </tr>\n",
       "    <tr>\n",
       "      <th>2</th>\n",
       "      <td>7575500040</td>\n",
       "      <td>98022</td>\n",
       "      <td>47.20</td>\n",
       "      <td>-122.00</td>\n",
       "      <td>1990</td>\n",
       "      <td>0</td>\n",
       "      <td>4</td>\n",
       "      <td>good</td>\n",
       "      <td>terrible</td>\n",
       "      <td>apartment</td>\n",
       "      <td>...</td>\n",
       "      <td>1010</td>\n",
       "      <td>8863</td>\n",
       "      <td>1.00</td>\n",
       "      <td>low_standard</td>\n",
       "      <td>winter</td>\n",
       "      <td>180000.00</td>\n",
       "      <td>279500.00</td>\n",
       "      <td>yes</td>\n",
       "      <td>224975.00</td>\n",
       "      <td>234000.00</td>\n",
       "    </tr>\n",
       "    <tr>\n",
       "      <th>3</th>\n",
       "      <td>1645000100</td>\n",
       "      <td>98022</td>\n",
       "      <td>47.21</td>\n",
       "      <td>-122.00</td>\n",
       "      <td>1964</td>\n",
       "      <td>0</td>\n",
       "      <td>4</td>\n",
       "      <td>good</td>\n",
       "      <td>terrible</td>\n",
       "      <td>apartment</td>\n",
       "      <td>...</td>\n",
       "      <td>1140</td>\n",
       "      <td>8500</td>\n",
       "      <td>1.00</td>\n",
       "      <td>low_standard</td>\n",
       "      <td>winter</td>\n",
       "      <td>188000.00</td>\n",
       "      <td>279500.00</td>\n",
       "      <td>yes</td>\n",
       "      <td>224975.00</td>\n",
       "      <td>244400.00</td>\n",
       "    </tr>\n",
       "    <tr>\n",
       "      <th>4</th>\n",
       "      <td>5706500385</td>\n",
       "      <td>98022</td>\n",
       "      <td>47.21</td>\n",
       "      <td>-121.99</td>\n",
       "      <td>1941</td>\n",
       "      <td>0</td>\n",
       "      <td>4</td>\n",
       "      <td>good</td>\n",
       "      <td>terrible</td>\n",
       "      <td>apartment</td>\n",
       "      <td>...</td>\n",
       "      <td>1400</td>\n",
       "      <td>9600</td>\n",
       "      <td>1.50</td>\n",
       "      <td>low_standard</td>\n",
       "      <td>winter</td>\n",
       "      <td>200000.00</td>\n",
       "      <td>279500.00</td>\n",
       "      <td>yes</td>\n",
       "      <td>224975.00</td>\n",
       "      <td>260000.00</td>\n",
       "    </tr>\n",
       "  </tbody>\n",
       "</table>\n",
       "<p>5 rows × 22 columns</p>\n",
       "</div>"
      ],
      "text/plain": [
       "           id  zipcode   lat    long  yr_built  yr_renovated  condition  \\\n",
       "0  3421079032    98022 47.26 -121.91      1966             0          3   \n",
       "1  1917300025    98022 47.21 -121.98      1945             0          3   \n",
       "2  7575500040    98022 47.20 -122.00      1990             0          4   \n",
       "3  1645000100    98022 47.21 -122.00      1964             0          4   \n",
       "4  5706500385    98022 47.21 -121.99      1941             0          4   \n",
       "\n",
       "  condition_type view_type dormitory_type  ...  sqft_living  sqft_lot  floors  \\\n",
       "0        regular  terrible         studio  ...          670     43377    1.00   \n",
       "1        regular  terrible      apartment  ...          860      6000    1.00   \n",
       "2           good  terrible      apartment  ...         1010      8863    1.00   \n",
       "3           good  terrible      apartment  ...         1140      8500    1.00   \n",
       "4           good  terrible      apartment  ...         1400      9600    1.50   \n",
       "\n",
       "       standard  seasons     price median_price  buy  median_seasons_price  \\\n",
       "0  low_standard   winter  75000.00    279500.00  yes             224975.00   \n",
       "1  low_standard   winter 122000.00    279500.00  yes             224975.00   \n",
       "2  low_standard   winter 180000.00    279500.00  yes             224975.00   \n",
       "3  low_standard   winter 188000.00    279500.00  yes             224975.00   \n",
       "4  low_standard   winter 200000.00    279500.00  yes             224975.00   \n",
       "\n",
       "  sale_price  \n",
       "0   97500.00  \n",
       "1  158600.00  \n",
       "2  234000.00  \n",
       "3  244400.00  \n",
       "4  260000.00  \n",
       "\n",
       "[5 rows x 22 columns]"
      ]
     },
     "execution_count": 79,
     "metadata": {},
     "output_type": "execute_result"
    }
   ],
   "source": [
    "df3.head()"
   ]
  },
  {
   "cell_type": "code",
   "execution_count": 102,
   "id": "bc5c3481",
   "metadata": {
    "ExecuteTime": {
     "end_time": "2021-10-27T09:41:11.741683Z",
     "start_time": "2021-10-27T09:41:11.710508Z"
    },
    "scrolled": true
   },
   "outputs": [
    {
     "data": {
      "text/html": [
       "<div>\n",
       "<style scoped>\n",
       "    .dataframe tbody tr th:only-of-type {\n",
       "        vertical-align: middle;\n",
       "    }\n",
       "\n",
       "    .dataframe tbody tr th {\n",
       "        vertical-align: top;\n",
       "    }\n",
       "\n",
       "    .dataframe thead th {\n",
       "        text-align: right;\n",
       "    }\n",
       "</style>\n",
       "<table border=\"1\" class=\"dataframe\">\n",
       "  <thead>\n",
       "    <tr style=\"text-align: right;\">\n",
       "      <th></th>\n",
       "      <th>total_purchase_amount</th>\n",
       "      <th>total_sale_amount</th>\n",
       "      <th>profit</th>\n",
       "    </tr>\n",
       "  </thead>\n",
       "  <tbody>\n",
       "    <tr>\n",
       "      <th>0</th>\n",
       "      <td>4079586744.00</td>\n",
       "      <td>4729811252.10</td>\n",
       "      <td>650224508.10</td>\n",
       "    </tr>\n",
       "  </tbody>\n",
       "</table>\n",
       "</div>"
      ],
      "text/plain": [
       "   total_purchase_amount  total_sale_amount       profit\n",
       "0          4079586744.00      4729811252.10 650224508.10"
      ]
     },
     "execution_count": 102,
     "metadata": {},
     "output_type": "execute_result"
    }
   ],
   "source": [
    "financial_results = {'total_purchase_amount': [df3['price'].sum()],\n",
    "                     'total_sale_amount': [df3['sale_price'].sum()],\n",
    "                     'profit': [(df3['sale_price'].sum() - df3['price'].sum())]}\n",
    "\n",
    "pd.DataFrame(financial_results)\n",
    "                                                   "
   ]
  },
  {
   "cell_type": "code",
   "execution_count": null,
   "id": "e6652dfc",
   "metadata": {},
   "outputs": [],
   "source": []
  }
 ],
 "metadata": {
  "kernelspec": {
   "display_name": "Python 3",
   "language": "python",
   "name": "python3"
  },
  "language_info": {
   "codemirror_mode": {
    "name": "ipython",
    "version": 3
   },
   "file_extension": ".py",
   "mimetype": "text/x-python",
   "name": "python",
   "nbconvert_exporter": "python",
   "pygments_lexer": "ipython3",
   "version": "3.8.10"
  },
  "nbTranslate": {
   "displayLangs": [],
   "hotkey": "alt-t",
   "langInMainMenu": true,
   "sourceLang": "pt",
   "targetLang": "en",
   "useGoogleTranslate": true
  },
  "toc": {
   "base_numbering": 1,
   "nav_menu": {},
   "number_sections": true,
   "sideBar": true,
   "skip_h1_title": false,
   "title_cell": "Table of Contents",
   "title_sidebar": "Contents",
   "toc_cell": false,
   "toc_position": {
    "height": "calc(100% - 180px)",
    "left": "10px",
    "top": "150px",
    "width": "273.2px"
   },
   "toc_section_display": true,
   "toc_window_display": true
  },
  "varInspector": {
   "cols": {
    "lenName": 16,
    "lenType": 16,
    "lenVar": 40
   },
   "kernels_config": {
    "python": {
     "delete_cmd_postfix": "",
     "delete_cmd_prefix": "del ",
     "library": "var_list.py",
     "varRefreshCmd": "print(var_dic_list())"
    },
    "r": {
     "delete_cmd_postfix": ") ",
     "delete_cmd_prefix": "rm(",
     "library": "var_list.r",
     "varRefreshCmd": "cat(var_dic_list()) "
    }
   },
   "types_to_exclude": [
    "module",
    "function",
    "builtin_function_or_method",
    "instance",
    "_Feature"
   ],
   "window_display": false
  }
 },
 "nbformat": 4,
 "nbformat_minor": 5
}
